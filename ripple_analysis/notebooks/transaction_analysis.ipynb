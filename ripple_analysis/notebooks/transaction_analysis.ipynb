{
 "cells": [
  {
   "cell_type": "code",
   "execution_count": 1,
   "metadata": {},
   "outputs": [],
   "source": [
    "import json\n",
    "from pprint import pprint\n",
    "import collections\n",
    "from progressbar import ProgressBar\n",
    "from ripple_api import RippleDataAPIClient"
   ]
  },
  {
   "cell_type": "markdown",
   "metadata": {},
   "source": [
    "# 1. First hop"
   ]
  },
  {
   "cell_type": "code",
   "execution_count": 2,
   "metadata": {},
   "outputs": [],
   "source": [
    "data = []\n",
    "with open('more-txs-from-missing-parsed.json') as f:\n",
    "    for line in f:\n",
    "        data.append(json.loads(line))\n",
    "with open('final_txs_2017.json') as f:\n",
    "    for line in f:\n",
    "        data.append(json.loads(line))        "
   ]
  },
  {
   "cell_type": "code",
   "execution_count": 3,
   "metadata": {},
   "outputs": [
    {
     "name": "stderr",
     "output_type": "stream",
     "text": [
      "100% |########################################################################|\n"
     ]
    }
   ],
   "source": [
    "wallets_first_hop = collections.defaultdict(list)\n",
    "pbar = ProgressBar()\n",
    "for txn in pbar(data):\n",
    "    sender = txn[\"sender\"]\n",
    "    try:\n",
    "        for link in txn[\"links\"]:\n",
    "            if link[\"node1\"] == sender:\n",
    "                wallets_first_hop[sender].append(link[\"node2\"])\n",
    "    except KeyError:\n",
    "        continue "
   ]
  },
  {
   "cell_type": "code",
   "execution_count": 6,
   "metadata": {},
   "outputs": [
    {
     "name": "stderr",
     "output_type": "stream",
     "text": [
      "100% |########################################################################|\n"
     ]
    }
   ],
   "source": [
    "wallet_two_most_hops = {}\n",
    "pbar = ProgressBar()\n",
    "count_unique_first_hop = 0\n",
    "count_unique_first_hop_if_more_than_one_transaction = 0\n",
    "for k in pbar(list(wallets_first_hop.keys())):\n",
    "    counter=collections.Counter(wallets_first_hop[k])\n",
    "    wallet_two_most_hops[k] = counter.most_common(2)\n",
    "    if(len(wallet_two_most_hops[k]) == 1):\n",
    "        count_unique_first_hop += 1\n",
    "        for a,b in wallet_two_most_hops[k]:\n",
    "            if(b != 1):\n",
    "                count_unique_first_hop_if_more_than_one_transaction += 1"
   ]
  },
  {
   "cell_type": "code",
   "execution_count": 14,
   "metadata": {},
   "outputs": [
    {
     "name": "stdout",
     "output_type": "stream",
     "text": [
      "There are 85.15420507567998% of wallets that uses always same first hop and only 40.51439626721292% if we consider wallets that did more than 1 transaction\n"
     ]
    }
   ],
   "source": [
    "print(\"There are \" + str(count_unique_first_hop/len(wallet_two_most_hops)*100) + \"% of wallets that uses always same first hop\" +\n",
    "      \" and only \" + str(count_unique_first_hop_if_more_than_one_transaction/len(wallet_two_most_hops)*100) + \"% if we consider wallets that did more than 1 transaction\")"
   ]
  },
  {
   "cell_type": "code",
   "execution_count": 15,
   "metadata": {},
   "outputs": [
    {
     "name": "stderr",
     "output_type": "stream",
     "text": [
      "100% |########################################################################|\n"
     ]
    }
   ],
   "source": [
    "first_hops = []\n",
    "pbar = ProgressBar()\n",
    "for k in pbar(list(wallets_first_hop.keys())):\n",
    "    for hop in list(set(wallets_first_hop[k])):\n",
    "        if hop not in first_hops:\n",
    "            first_hops.append(hop)"
   ]
  },
  {
   "cell_type": "code",
   "execution_count": 16,
   "metadata": {},
   "outputs": [],
   "source": [
    "api = RippleDataAPIClient('https://data.ripple.com')"
   ]
  },
  {
   "cell_type": "code",
   "execution_count": 17,
   "metadata": {},
   "outputs": [],
   "source": [
    "json_gateways = api.get_all_gateways()"
   ]
  },
  {
   "cell_type": "code",
   "execution_count": 18,
   "metadata": {},
   "outputs": [
    {
     "name": "stderr",
     "output_type": "stream",
     "text": [
      "100% |########################################################################|\n"
     ]
    }
   ],
   "source": [
    "gateways_wallet = []\n",
    "pbar = ProgressBar()\n",
    "for k in pbar(list(json_gateways.keys())):\n",
    "    for gateway in json_gateways[k]:\n",
    "        gateways_wallet.append(gateway[\"account\"])"
   ]
  },
  {
   "cell_type": "code",
   "execution_count": 19,
   "metadata": {},
   "outputs": [],
   "source": [
    "inter = list(set(gateways_wallet) & set(first_hops))"
   ]
  },
  {
   "cell_type": "code",
   "execution_count": 20,
   "metadata": {},
   "outputs": [
    {
     "name": "stdout",
     "output_type": "stream",
     "text": [
      "From the first hops only 4.644412191582003% are know gateways.\n"
     ]
    }
   ],
   "source": [
    "print(\"From the first hops only \"+ str(len(inter)/len(first_hops)*100) + \"% are know gateways.\")"
   ]
  },
  {
   "cell_type": "markdown",
   "metadata": {},
   "source": [
    "# 2. No hops"
   ]
  },
  {
   "cell_type": "code",
   "execution_count": 46,
   "metadata": {},
   "outputs": [
    {
     "name": "stderr",
     "output_type": "stream",
     "text": [
      "100% |########################################################################|\n"
     ]
    }
   ],
   "source": [
    "all_senders = set()\n",
    "sender_with_paths = set()\n",
    "all_txn = set()\n",
    "txn_with_paths = set()\n",
    "pbar = ProgressBar()\n",
    "for txn in pbar(data):\n",
    "    sender = txn[\"sender\"]\n",
    "    txn_hash = txn[\"hash\"]\n",
    "    all_senders.add(sender)\n",
    "    all_txn.add(txn_hash)\n",
    "    if \"paths\" in txn.keys():\n",
    "        sender_with_paths.add(sender)  \n",
    "        txn_with_paths.add(txn_hash)"
   ]
  },
  {
   "cell_type": "code",
   "execution_count": 48,
   "metadata": {},
   "outputs": [],
   "source": [
    "sender_with_only_two_hops = list(all_senders - sender_with_paths)\n",
    "txn_with_only_two_hops = list(all_txn - txn_with_paths)"
   ]
  },
  {
   "cell_type": "code",
   "execution_count": 49,
   "metadata": {},
   "outputs": [
    {
     "name": "stdout",
     "output_type": "stream",
     "text": [
      "We have 87.98582218291993% of senders that never use paths\n"
     ]
    }
   ],
   "source": [
    "print(\"We have \"+ str(len(sender_with_only_two_hops)/len(all_senders)*100) + \"% of senders that never use paths\")"
   ]
  },
  {
   "cell_type": "code",
   "execution_count": 51,
   "metadata": {},
   "outputs": [
    {
     "name": "stdout",
     "output_type": "stream",
     "text": [
      "We have 78.80077420297265% of transactions that never use paths\n"
     ]
    }
   ],
   "source": [
    "print(\"We have \"+ str(len(txn_with_only_two_hops)/len(all_txn)*100) + \"% of transactions that never use paths\")"
   ]
  }
 ],
 "metadata": {
  "kernelspec": {
   "display_name": "Python 3",
   "language": "python",
   "name": "python3"
  },
  "language_info": {
   "codemirror_mode": {
    "name": "ipython",
    "version": 3
   },
   "file_extension": ".py",
   "mimetype": "text/x-python",
   "name": "python",
   "nbconvert_exporter": "python",
   "pygments_lexer": "ipython3",
   "version": "3.7.1"
  }
 },
 "nbformat": 4,
 "nbformat_minor": 2
}

{
 "cells": [
  {
   "cell_type": "markdown",
   "metadata": {},
   "source": [
    "# Nodes\n",
    "\n",
    "## This notebook is used to get information about Ripple nodes"
   ]
  },
  {
   "cell_type": "markdown",
   "metadata": {},
   "source": [
    "### 0. Preliminaries\n",
    "Import the right libraries."
   ]
  },
  {
   "cell_type": "code",
   "execution_count": 1,
   "metadata": {},
   "outputs": [],
   "source": [
    "import urllib.request\n",
    "import json\n",
    "import collections\n",
    "import numpy as np\n",
    "import operator\n",
    "\n",
    "from tqdm import tqdm_notebook as tqdm\n",
    "\n",
    "from matplotlib import pyplot as plt\n",
    "%matplotlib inline\n",
    "%config InlineBackend.figure_format='retina'"
   ]
  },
  {
   "cell_type": "markdown",
   "metadata": {},
   "source": [
    "We use the Ripple Data API"
   ]
  },
  {
   "cell_type": "code",
   "execution_count": 2,
   "metadata": {},
   "outputs": [],
   "source": [
    "from ripple_api import RippleDataAPIClient,RippleRPCClient\n",
    "api = RippleDataAPIClient('https://data.ripple.com')"
   ]
  },
  {
   "cell_type": "markdown",
   "metadata": {},
   "source": [
    "### 1. Nodes\n",
    "We get the data from the API"
   ]
  },
  {
   "cell_type": "code",
   "execution_count": 3,
   "metadata": {},
   "outputs": [],
   "source": [
    "nodes = api.get_topology()['nodes']"
   ]
  },
  {
   "cell_type": "code",
   "execution_count": 4,
   "metadata": {},
   "outputs": [
    {
     "name": "stdout",
     "output_type": "stream",
     "text": [
      "There are 1017 known nodes.\n"
     ]
    }
   ],
   "source": [
    "print('There are',len(nodes),'known nodes.')"
   ]
  },
  {
   "cell_type": "code",
   "execution_count": 5,
   "metadata": {},
   "outputs": [],
   "source": [
    "#This method return the country name for a given IP address\n",
    "def get_country_name(ip):\n",
    "    with urllib.request.urlopen(\"https://geoip-db.com/jsonp/\"+ip) as url:\n",
    "        answer = url.read().decode()[9:-1] #remove first 9 char and the last of answer to be read to convert to dict\n",
    "        answer = json.loads(answer)\n",
    "        return answer['country_name']"
   ]
  },
  {
   "cell_type": "code",
   "execution_count": 6,
   "metadata": {},
   "outputs": [
    {
     "data": {
      "application/vnd.jupyter.widget-view+json": {
       "model_id": "f077450e0fb248118a1d1c372d8aa877",
       "version_major": 2,
       "version_minor": 0
      },
      "text/plain": [
       "HBox(children=(IntProgress(value=0, max=1017), HTML(value='')))"
      ]
     },
     "metadata": {},
     "output_type": "display_data"
    },
    {
     "name": "stdout",
     "output_type": "stream",
     "text": [
      "\n"
     ]
    }
   ],
   "source": [
    "node_to_count = {}\n",
    "for node in tqdm(nodes):\n",
    "    if 'ip' in node.keys():\n",
    "        country = get_country_name(node['ip'])\n",
    "        node_to_count[country] = node_to_count.get(country,0) + 1\n",
    "del node_to_count[None] #remove requests that failed"
   ]
  },
  {
   "cell_type": "code",
   "execution_count": 8,
   "metadata": {},
   "outputs": [],
   "source": [
    "node_to_count = collections.OrderedDict(sorted(node_to_count.items(),key=operator.itemgetter(1),reverse = False)) #sort by counts"
   ]
  },
  {
   "cell_type": "code",
   "execution_count": 9,
   "metadata": {},
   "outputs": [
    {
     "data": {
      "text/plain": [
       "OrderedDict([('Malaysia', 1),\n",
       "             ('Serbia', 1),\n",
       "             ('Taiwan', 1),\n",
       "             ('New Zealand', 1),\n",
       "             ('Portugal', 1),\n",
       "             ('Romania', 1),\n",
       "             ('Republic of Lithuania', 1),\n",
       "             ('Latvia', 1),\n",
       "             ('Italy', 1),\n",
       "             ('Estonia', 1),\n",
       "             ('Poland', 1),\n",
       "             ('Belarus', 1),\n",
       "             ('Bulgaria', 1),\n",
       "             ('Slovakia', 1),\n",
       "             ('Georgia', 1),\n",
       "             ('Vietnam', 2),\n",
       "             ('Luxembourg', 2),\n",
       "             ('Denmark', 2),\n",
       "             ('South Africa', 2),\n",
       "             ('Norway', 2),\n",
       "             ('Ukraine', 2),\n",
       "             ('Not found', 2),\n",
       "             ('Turkey', 3),\n",
       "             ('Slovenia', 4),\n",
       "             ('India', 5),\n",
       "             ('Brazil', 6),\n",
       "             ('Russia', 7),\n",
       "             ('Switzerland', 8),\n",
       "             ('Australia', 10),\n",
       "             ('United Kingdom', 11),\n",
       "             ('Finland', 13),\n",
       "             ('France', 16),\n",
       "             ('Canada', 16),\n",
       "             ('Hong Kong', 27),\n",
       "             ('Netherlands', 30),\n",
       "             ('Ireland', 31),\n",
       "             ('China', 44),\n",
       "             ('Singapore', 63),\n",
       "             ('South Korea', 71),\n",
       "             ('Japan', 106),\n",
       "             ('Germany', 116),\n",
       "             ('United States', 246)])"
      ]
     },
     "execution_count": 9,
     "metadata": {},
     "output_type": "execute_result"
    }
   ],
   "source": [
    "node_to_count"
   ]
  },
  {
   "cell_type": "markdown",
   "metadata": {},
   "source": [
    "The next cell plots the nodes repartion as a stacked-bar"
   ]
  },
  {
   "cell_type": "code",
   "execution_count": 11,
   "metadata": {},
   "outputs": [
    {
     "data": {
      "application/vnd.jupyter.widget-view+json": {
       "model_id": "a797a553e3984b01968b3320c8bb7ec0",
       "version_major": 2,
       "version_minor": 0
      },
      "text/plain": [
       "HBox(children=(IntProgress(value=0, max=42), HTML(value='')))"
      ]
     },
     "metadata": {},
     "output_type": "display_data"
    },
    {
     "name": "stdout",
     "output_type": "stream",
     "text": [
      "\n"
     ]
    },
    {
     "data": {
      "image/png": "[encoded data removed]",
      "text/plain": [
       "<Figure size 216x432 with 1 Axes>"
      ]
     },
     "metadata": {
      "image/png": {
       "height": 350,
       "width": 209
      },
      "needs_background": "light"
     },
     "output_type": "display_data"
    }
   ],
   "source": [
    "plt.figure(figsize=(3,6))\n",
    "\n",
    "nb_nodes = sum(list(node_to_count.values()))\n",
    "bars_previous=0 #where to start from (to stack the bar)\n",
    "others = 0\n",
    "ploted_others = False\n",
    "\n",
    "for country,count in tqdm(node_to_count.items()):\n",
    "    bar = count/nb_nodes*100\n",
    "    \n",
    "    if(bar < 4):\n",
    "        others+= bar #if less than 4% add to 'others'\n",
    "   \n",
    "    else:\n",
    "        if(not ploted_others):\n",
    "            ploted_others = True\n",
    "            plt.bar(0,others)\n",
    "            plt.text(0,0.5*others,'Others: %1.2f' %others+'% '+'(%1.0f' %(others/100*nb_nodes)+')',horizontalalignment='center',verticalalignment='center')\n",
    "        plt.bar(0,bar,bottom = bars_previous)\n",
    "        plt.text(0,bars_previous+0.5*bar,country+\": %1.2f\"% bar+'% '+'('+str(count)+')',horizontalalignment='center',verticalalignment='center')\n",
    "        \n",
    "    bars_previous+= bar\n",
    "\n",
    "plt.ylim(0, 100)\n",
    "plt.xticks([])\n",
    "\n",
    "plt.savefig('../visualisations/Repartiton_of_nodes.png',dpi = 255)\n",
    "plt.show()"
   ]
  }
 ],
 "metadata": {
  "kernelspec": {
   "display_name": "Python 3",
   "language": "python",
   "name": "python3"
  },
  "language_info": {
   "codemirror_mode": {
    "name": "ipython",
    "version": 3
   },
   "file_extension": ".py",
   "mimetype": "text/x-python",
   "name": "python",
   "nbconvert_exporter": "python",
   "pygments_lexer": "ipython3",
   "version": "3.7.1"
  }
 },
 "nbformat": 4,
 "nbformat_minor": 2
}

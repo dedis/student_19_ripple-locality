{
 "cells": [
  {
   "cell_type": "code",
   "execution_count": 1,
   "metadata": {},
   "outputs": [],
   "source": [
    "import json\n",
    "from pprint import pprint"
   ]
  },
  {
   "cell_type": "code",
   "execution_count": 2,
   "metadata": {},
   "outputs": [],
   "source": [
    "data = []\n",
    "with open('more-txs-from-missing-parsed.json') as f:\n",
    "    for line in f:\n",
    "        data.append(json.loads(line))"
   ]
  },
  {
   "cell_type": "code",
   "execution_count": 7,
   "metadata": {},
   "outputs": [
    {
     "data": {
      "text/plain": [
       "{'actualReceiverCurrency': 'XRP',\n",
       " 'fee': 1.2e-05,\n",
       " 'issuerReceiver': '--',\n",
       " 'sender': 'rQ9ArM8TdHmeQHvd969nQPP1TZosBhzdXg',\n",
       " 'success': 'tesSUCCESS',\n",
       " 'paths': [[{'account': 'ruazs5h1qEsqpke88pcqnaseXdm6od2xc'},\n",
       "   {'currency': 'XRP'}]],\n",
       " 'actualReceiverAmount': '2.000000',\n",
       " 'receiverCurrency': 'XRP',\n",
       " 'links': [{'isIncr': False,\n",
       "   'currency': 'GKO',\n",
       "   'amount': 0.8964589870013441,\n",
       "   'node1': 'rQ9ArM8TdHmeQHvd969nQPP1TZosBhzdXg',\n",
       "   'node2': 'ruazs5h1qEsqpke88pcqnaseXdm6od2xc',\n",
       "   'holder': 'rQ9ArM8TdHmeQHvd969nQPP1TZosBhzdXg'},\n",
       "  {'isIncr': True,\n",
       "   'currency': 'GKO',\n",
       "   'amount': 0.8964589870013242,\n",
       "   'node1': 'rLm7SJT73iAoN1XDiKsqWEf4W8Ba2bVB6y',\n",
       "   'node2': 'ruazs5h1qEsqpke88pcqnaseXdm6od2xc',\n",
       "   'holder': 'rLm7SJT73iAoN1XDiKsqWEf4W8Ba2bVB6y'}],\n",
       " 'offers': [{'takerPays': '395.072512 XRP',\n",
       "   'takerGets': '177.0831519497987 GKO.ruazs5h1qEsqpke88pcqnaseXdm6od2xc',\n",
       "   'nodeOffer': 'rLm7SJT73iAoN1XDiKsqWEf4W8Ba2bVB6y'}],\n",
       " 'XRPAcc': [{'isIncr': False,\n",
       "   'account': 'rLm7SJT73iAoN1XDiKsqWEf4W8Ba2bVB6y',\n",
       "   'amount': 2.0},\n",
       "  {'isIncr': True,\n",
       "   'account': 'rQ9ArM8TdHmeQHvd969nQPP1TZosBhzdXg',\n",
       "   'amount': 1.9999880000000019}],\n",
       " 'flags': '',\n",
       " 'receiverAmount': '2.000000',\n",
       " 'issuerSender': '--',\n",
       " 'receiver': 'rQ9ArM8TdHmeQHvd969nQPP1TZosBhzdXg',\n",
       " 'senderCurrency': 'GKO',\n",
       " 'hash': '09399C17EA340C81FD3FE912D91DB6CCFB0CBAA0C6E4FFE39FC2B3DC83CFBFBD',\n",
       " 'senderAmount': '0.9054235768',\n",
       " 'actualIssuerReceiver': '--',\n",
       " 'date': '2014-05-16T05:02:30+00:00'}"
      ]
     },
     "execution_count": 7,
     "metadata": {},
     "output_type": "execute_result"
    }
   ],
   "source": [
    "data[7]"
   ]
  },
  {
   "cell_type": "code",
   "execution_count": 4,
   "metadata": {},
   "outputs": [],
   "source": [
    "dict = {'hash' : data[0][\"hash\"]}"
   ]
  },
  {
   "cell_type": "code",
   "execution_count": 5,
   "metadata": {},
   "outputs": [
    {
     "data": {
      "text/plain": [
       "{'hash': 'C221FA5733D106AB6A0D941050FC6702874D6707028A0757525E7413A8B1235A'}"
      ]
     },
     "execution_count": 5,
     "metadata": {},
     "output_type": "execute_result"
    }
   ],
   "source": [
    "dict"
   ]
  },
  {
   "cell_type": "code",
   "execution_count": null,
   "metadata": {},
   "outputs": [],
   "source": []
  }
 ],
 "metadata": {
  "kernelspec": {
   "display_name": "Python 3",
   "language": "python",
   "name": "python3"
  },
  "language_info": {
   "codemirror_mode": {
    "name": "ipython",
    "version": 3
   },
   "file_extension": ".py",
   "mimetype": "text/x-python",
   "name": "python",
   "nbconvert_exporter": "python",
   "pygments_lexer": "ipython3",
   "version": "3.7.1"
  }
 },
 "nbformat": 4,
 "nbformat_minor": 2
}

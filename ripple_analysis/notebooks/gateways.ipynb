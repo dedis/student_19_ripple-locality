{
 "cells": [
  {
   "cell_type": "markdown",
   "metadata": {},
   "source": [
    "# Gateways\n",
    "## This notebook is used to get information about Ripple gateways "
   ]
  },
  {
   "cell_type": "markdown",
   "metadata": {},
   "source": [
    "### 0. Preliminaries\n",
    "This part is about reading and cleaning the transactions data, importing the right libraries."
   ]
  },
  {
   "cell_type": "code",
   "execution_count": 1,
   "metadata": {},
   "outputs": [],
   "source": [
    "import socket\n",
    "import urllib.request\n",
    "import json\n",
    "import pickle\n",
    "import collections\n",
    "import math\n",
    "import operator\n",
    "import ccy\n",
    "import numpy as np\n",
    "\n",
    "from tqdm import tqdm_notebook as tqdm\n",
    "\n",
    "from matplotlib import pyplot as plt\n",
    "%matplotlib inline\n",
    "%config InlineBackend.figure_format='retina'\n",
    "\n",
    "from random import shuffle"
   ]
  },
  {
   "cell_type": "markdown",
   "metadata": {},
   "source": [
    "We use the Ripple Data API"
   ]
  },
  {
   "cell_type": "code",
   "execution_count": 2,
   "metadata": {},
   "outputs": [],
   "source": [
    "from ripple_api import RippleDataAPIClient,RippleRPCClient\n",
    "api = RippleDataAPIClient('https://data.ripple.com')"
   ]
  },
  {
   "cell_type": "markdown",
   "metadata": {},
   "source": [
    "Read the data, run only once "
   ]
  },
  {
   "cell_type": "code",
   "execution_count": 3,
   "metadata": {},
   "outputs": [
    {
     "data": {
      "application/vnd.jupyter.widget-view+json": {
       "model_id": "b6ee071d4464427693a18920641cfcab",
       "version_major": 2,
       "version_minor": 0
      },
      "text/plain": [
       "HBox(children=(IntProgress(value=0, max=1599868), HTML(value='')))"
      ]
     },
     "metadata": {},
     "output_type": "display_data"
    },
    {
     "name": "stdout",
     "output_type": "stream",
     "text": [
      "\n"
     ]
    },
    {
     "data": {
      "application/vnd.jupyter.widget-view+json": {
       "model_id": "49b3d84492ce49cbb7987b4d7c17a939",
       "version_major": 2,
       "version_minor": 0
      },
      "text/plain": [
       "HBox(children=(IntProgress(value=0, max=2021479), HTML(value='')))"
      ]
     },
     "metadata": {},
     "output_type": "display_data"
    },
    {
     "name": "stdout",
     "output_type": "stream",
     "text": [
      "\n"
     ]
    }
   ],
   "source": [
    "data = []\n",
    "with open('../data/transactions/more-txs-from-missing-parsed.json') as f:\n",
    "    for line in tqdm(list(f)):\n",
    "        data.append(json.loads(line))\n",
    "with open('../data/transactions/final_txs_2017.json') as f:\n",
    "    for line in tqdm(list(f)):\n",
    "        data.append(json.loads(line))"
   ]
  },
  {
   "cell_type": "markdown",
   "metadata": {},
   "source": [
    "Try to recover some senderCurrency field that are missing. Getting currency of link with sender"
   ]
  },
  {
   "cell_type": "code",
   "execution_count": 4,
   "metadata": {},
   "outputs": [
    {
     "data": {
      "application/vnd.jupyter.widget-view+json": {
       "model_id": "d5f0e5e586d44c56ba3547fcc206d627",
       "version_major": 2,
       "version_minor": 0
      },
      "text/plain": [
       "HBox(children=(IntProgress(value=0, max=3621347), HTML(value='')))"
      ]
     },
     "metadata": {},
     "output_type": "display_data"
    },
    {
     "name": "stdout",
     "output_type": "stream",
     "text": [
      "\n"
     ]
    }
   ],
   "source": [
    "for index in tqdm(range(len(data))):\n",
    "    txn = data[index]\n",
    "    if txn['success'] == 'tesSUCCESS':\n",
    "        if 'senderCurrency' not in txn.keys() and 'links' in txn.keys() :\n",
    "            sender = txn['sender']\n",
    "            for link in txn['links']:\n",
    "                if link['node1'] == sender:\n",
    "                    txn['senderCurrency'] = link['currency']            "
   ]
  },
  {
   "cell_type": "markdown",
   "metadata": {},
   "source": [
    "Uniform the data because we have fields 'actualReceiverCurrency' and 'receiverCurrency' so put them all under 'receiverCurrency'."
   ]
  },
  {
   "cell_type": "code",
   "execution_count": 5,
   "metadata": {},
   "outputs": [
    {
     "data": {
      "application/vnd.jupyter.widget-view+json": {
       "model_id": "585960f694fc4a63a274bdfff5cf1597",
       "version_major": 2,
       "version_minor": 0
      },
      "text/plain": [
       "HBox(children=(IntProgress(value=0, max=3621347), HTML(value='')))"
      ]
     },
     "metadata": {},
     "output_type": "display_data"
    },
    {
     "name": "stdout",
     "output_type": "stream",
     "text": [
      "\n"
     ]
    }
   ],
   "source": [
    "for index in tqdm(range(len(data))):\n",
    "    txn = data[index]\n",
    "    if txn['success'] == 'tesSUCCESS':\n",
    "        if 'actualReceiverCurrency' in txn.keys() :\n",
    "            txn['receiverCurrency'] = txn['actualReceiverCurrency']\n",
    "            del txn['actualReceiverCurrency']"
   ]
  },
  {
   "cell_type": "markdown",
   "metadata": {},
   "source": [
    "Uniform the data because we have fields 'actualReceiverAmount' and 'receiverCurrency' so put them all under 'receiverAmount'."
   ]
  },
  {
   "cell_type": "code",
   "execution_count": 6,
   "metadata": {},
   "outputs": [
    {
     "data": {
      "application/vnd.jupyter.widget-view+json": {
       "model_id": "3fef39444d2540ad8e0b8ddd1344c49f",
       "version_major": 2,
       "version_minor": 0
      },
      "text/plain": [
       "HBox(children=(IntProgress(value=0, max=3621347), HTML(value='')))"
      ]
     },
     "metadata": {},
     "output_type": "display_data"
    },
    {
     "name": "stdout",
     "output_type": "stream",
     "text": [
      "\n"
     ]
    }
   ],
   "source": [
    "for index in tqdm(range(len(data))):\n",
    "    txn = data[index]\n",
    "    if txn['success'] == 'tesSUCCESS':\n",
    "        if 'actualReceiverAmount' in txn.keys():\n",
    "            txn['receiverAmount'] = txn['actualReceiverAmount']\n",
    "            del txn['actualReceiverAmount']"
   ]
  },
  {
   "cell_type": "markdown",
   "metadata": {},
   "source": [
    "Recover the senderCurrency, if not done before from the links then it is usually XRP."
   ]
  },
  {
   "cell_type": "code",
   "execution_count": 7,
   "metadata": {},
   "outputs": [
    {
     "data": {
      "application/vnd.jupyter.widget-view+json": {
       "model_id": "a33312da59c54800bb1983502bc21a30",
       "version_major": 2,
       "version_minor": 0
      },
      "text/plain": [
       "HBox(children=(IntProgress(value=0, max=3621347), HTML(value='')))"
      ]
     },
     "metadata": {},
     "output_type": "display_data"
    },
    {
     "name": "stdout",
     "output_type": "stream",
     "text": [
      "\n"
     ]
    }
   ],
   "source": [
    "for index in tqdm(range(len(data))):\n",
    "    txn = data[index]\n",
    "    if txn['success'] == 'tesSUCCESS':\n",
    "        if 'senderCurrency' not in txn.keys():\n",
    "            txn['senderCurrency'] = txn['receiverCurrency']    "
   ]
  },
  {
   "cell_type": "code",
   "execution_count": 8,
   "metadata": {},
   "outputs": [
    {
     "name": "stdout",
     "output_type": "stream",
     "text": [
      "{\n",
      "    \"fee\": 1e-05,\n",
      "    \"hash\": \"3F7A1B3A771D477B03104E86CE73790BB8C8E516BEE680BB4AD9893444D21CF3\",\n",
      "    \"sender\": \"rHb9CJAWyB4rj91VRWn96DkukG4bwdtyTh\",\n",
      "    \"success\": \"tesSUCCESS\",\n",
      "    \"XRPAcc\": [\n",
      "        {\n",
      "            \"isIncr\": false,\n",
      "            \"account\": \"rHb9CJAWyB4rj91VRWn96DkukG4bwdtyTh\",\n",
      "            \"amount\": 1.100000000064938e-05\n",
      "        },\n",
      "        {\n",
      "            \"isIncr\": true,\n",
      "            \"account\": \"rbvFfuUysurzPHq5kgs53A16j5svbFxgv\",\n",
      "            \"amount\": 1.0000001111620804e-06\n",
      "        }\n",
      "    ],\n",
      "    \"flags\": \"\",\n",
      "    \"receiver\": \"rbvFfuUysurzPHq5kgs53A16j5svbFxgv\",\n",
      "    \"date\": \"2013-06-29T13:10:20+00:00\",\n",
      "    \"actualIssuerReceiver\": \"--\",\n",
      "    \"receiverCurrency\": \"XRP\",\n",
      "    \"receiverAmount\": \"0.000001\",\n",
      "    \"senderCurrency\": \"XRP\"\n",
      "}\n",
      "{\n",
      "    \"fee\": 1.2e-05,\n",
      "    \"issuerReceiver\": \"--\",\n",
      "    \"sender\": \"rQ9ArM8TdHmeQHvd969nQPP1TZosBhzdXg\",\n",
      "    \"success\": \"tesSUCCESS\",\n",
      "    \"paths\": [\n",
      "        [\n",
      "            {\n",
      "                \"account\": \"ruazs5h1qEsqpke88pcqnaseXdm6od2xc\"\n",
      "            },\n",
      "            {\n",
      "                \"currency\": \"XRP\"\n",
      "            }\n",
      "        ]\n",
      "    ],\n",
      "    \"receiverCurrency\": \"XRP\",\n",
      "    \"links\": [\n",
      "        {\n",
      "            \"isIncr\": false,\n",
      "            \"currency\": \"GKO\",\n",
      "            \"amount\": 0.8964589870013441,\n",
      "            \"node1\": \"rQ9ArM8TdHmeQHvd969nQPP1TZosBhzdXg\",\n",
      "            \"node2\": \"ruazs5h1qEsqpke88pcqnaseXdm6od2xc\",\n",
      "            \"holder\": \"rQ9ArM8TdHmeQHvd969nQPP1TZosBhzdXg\"\n",
      "        },\n",
      "        {\n",
      "            \"isIncr\": true,\n",
      "            \"currency\": \"GKO\",\n",
      "            \"amount\": 0.8964589870013242,\n",
      "            \"node1\": \"rLm7SJT73iAoN1XDiKsqWEf4W8Ba2bVB6y\",\n",
      "            \"node2\": \"ruazs5h1qEsqpke88pcqnaseXdm6od2xc\",\n",
      "            \"holder\": \"rLm7SJT73iAoN1XDiKsqWEf4W8Ba2bVB6y\"\n",
      "        }\n",
      "    ],\n",
      "    \"offers\": [\n",
      "        {\n",
      "            \"takerPays\": \"395.072512 XRP\",\n",
      "            \"takerGets\": \"177.0831519497987 GKO.ruazs5h1qEsqpke88pcqnaseXdm6od2xc\",\n",
      "            \"nodeOffer\": \"rLm7SJT73iAoN1XDiKsqWEf4W8Ba2bVB6y\"\n",
      "        }\n",
      "    ],\n",
      "    \"XRPAcc\": [\n",
      "        {\n",
      "            \"isIncr\": false,\n",
      "            \"account\": \"rLm7SJT73iAoN1XDiKsqWEf4W8Ba2bVB6y\",\n",
      "            \"amount\": 2.0\n",
      "        },\n",
      "        {\n",
      "            \"isIncr\": true,\n",
      "            \"account\": \"rQ9ArM8TdHmeQHvd969nQPP1TZosBhzdXg\",\n",
      "            \"amount\": 1.9999880000000019\n",
      "        }\n",
      "    ],\n",
      "    \"flags\": \"\",\n",
      "    \"receiverAmount\": \"2.000000\",\n",
      "    \"issuerSender\": \"--\",\n",
      "    \"receiver\": \"rQ9ArM8TdHmeQHvd969nQPP1TZosBhzdXg\",\n",
      "    \"senderCurrency\": \"GKO\",\n",
      "    \"hash\": \"09399C17EA340C81FD3FE912D91DB6CCFB0CBAA0C6E4FFE39FC2B3DC83CFBFBD\",\n",
      "    \"senderAmount\": \"0.9054235768\",\n",
      "    \"actualIssuerReceiver\": \"--\",\n",
      "    \"date\": \"2014-05-16T05:02:30+00:00\"\n",
      "}\n"
     ]
    }
   ],
   "source": [
    "print(json.dumps(data[1],indent = 4))\n",
    "print(json.dumps(data[7],indent = 4))"
   ]
  },
  {
   "cell_type": "markdown",
   "metadata": {},
   "source": [
    "### 1. Gateways\n",
    "We now use the api to get the known gateways. The we compoute the location of the gateways, and write to memory."
   ]
  },
  {
   "cell_type": "code",
   "execution_count": 9,
   "metadata": {},
   "outputs": [],
   "source": [
    "all_gateways = api.get_all_gateways()"
   ]
  },
  {
   "cell_type": "code",
   "execution_count": 10,
   "metadata": {},
   "outputs": [
    {
     "ename": "NameError",
     "evalue": "name 'dict_gateways' is not defined",
     "output_type": "error",
     "traceback": [
      "\u001b[0;31m---------------------------------------------------------------------------\u001b[0m",
      "\u001b[0;31mNameError\u001b[0m                                 Traceback (most recent call last)",
      "\u001b[0;32m<ipython-input-10-cd06c794908c>\u001b[0m in \u001b[0;36m<module>\u001b[0;34m\u001b[0m\n\u001b[0;32m----> 1\u001b[0;31m \u001b[0mprint\u001b[0m\u001b[0;34m(\u001b[0m\u001b[0;34m\"There are\"\u001b[0m\u001b[0;34m,\u001b[0m\u001b[0mlen\u001b[0m\u001b[0;34m(\u001b[0m\u001b[0mlist\u001b[0m\u001b[0;34m(\u001b[0m\u001b[0mdict_gateways\u001b[0m\u001b[0;34m.\u001b[0m\u001b[0mvalues\u001b[0m\u001b[0;34m(\u001b[0m\u001b[0;34m)\u001b[0m\u001b[0;34m)\u001b[0m\u001b[0;34m)\u001b[0m\u001b[0;34m,\u001b[0m\u001b[0;34m\"known gateways.\"\u001b[0m\u001b[0;34m)\u001b[0m\u001b[0;34m\u001b[0m\u001b[0;34m\u001b[0m\u001b[0m\n\u001b[0m",
      "\u001b[0;31mNameError\u001b[0m: name 'dict_gateways' is not defined"
     ]
    }
   ],
   "source": [
    "print(\"There are\",len(list(dict_gateways.values())),\"known gateways.\")"
   ]
  },
  {
   "cell_type": "markdown",
   "metadata": {},
   "source": [
    "Map gateway wallet addresses to the gateway name"
   ]
  },
  {
   "cell_type": "code",
   "execution_count": null,
   "metadata": {},
   "outputs": [],
   "source": [
    "gateways_address_to_name = dict() \n",
    "for currency,gateway_list in tqdm(all_gateways.items()):\n",
    "    for gateway in gateway_list:\n",
    "        gateway_name = gateway['name']\n",
    "        gateway_account = gateway['account']\n",
    "        gateways_address_to_name[gateway_account] = gateway_name"
   ]
  },
  {
   "cell_type": "code",
   "execution_count": null,
   "metadata": {},
   "outputs": [],
   "source": [
    "get_gateways = []\n",
    "for address in tqdm(gateways_address_to_name.keys()):\n",
    "    answer = api.get_gateway(address) #get information about each gateway\n",
    "    if 'status' in answer.keys(): #error\n",
    "        print(gateways_address_to_name[address])\n",
    "    else:\n",
    "        get_gateways.append(answer)"
   ]
  },
  {
   "cell_type": "markdown",
   "metadata": {},
   "source": [
    "We also add the hot wallets to the dictionnary"
   ]
  },
  {
   "cell_type": "code",
   "execution_count": null,
   "metadata": {},
   "outputs": [],
   "source": [
    "for gateway in tqdm(get_gateways):\n",
    "    gateway_name = gateway['name']\n",
    "    for hotwallet in gateway['hotwallets']:\n",
    "        gateways_address_to_name[hotwallet] = gateway_name"
   ]
  },
  {
   "cell_type": "code",
   "execution_count": null,
   "metadata": {},
   "outputs": [],
   "source": [
    "gateways_address_to_name"
   ]
  },
  {
   "cell_type": "code",
   "execution_count": null,
   "metadata": {},
   "outputs": [],
   "source": [
    "with open('../data/gateways/gateways_address_to_name.pickle', 'wb') as f:\n",
    "    pickle.dump(gateways_address_to_name, f, protocol=pickle.HIGHEST_PROTOCOL) #save to disk"
   ]
  },
  {
   "cell_type": "code",
   "execution_count": null,
   "metadata": {},
   "outputs": [],
   "source": [
    "for gateway in tqdm(get_gateways):\n",
    "    if 'domain' not in gateway.keys():\n",
    "        print(get_gateways.index(gateway),gateway['name'])"
   ]
  },
  {
   "cell_type": "code",
   "execution_count": null,
   "metadata": {},
   "outputs": [],
   "source": [
    "get_gateways[27]['domain'] = 'bpgrefining.com' #add domain manually"
   ]
  },
  {
   "cell_type": "code",
   "execution_count": null,
   "metadata": {},
   "outputs": [],
   "source": [
    "# This method return the IP adrresses associated to a domain\n",
    "def get_ip_list(domain):\n",
    "    try:\n",
    "        return socket.gethostbyname_ex(domain)[2] \n",
    "    except:\n",
    "        return []"
   ]
  },
  {
   "cell_type": "code",
   "execution_count": null,
   "metadata": {},
   "outputs": [],
   "source": [
    "# This method return the country associated to a IP address\n",
    "    with urllib.request.urlopen(\"https://geoip-db.com/jsonp/\"+ip) as url:\n",
    "        answer = url.read().decode()[9:-1] #remove first 9 char and the last of answer to be read to convert to dict\n",
    "        answer = json.loads(answer)\n",
    "        return (answer['country_name'])"
   ]
  },
  {
   "cell_type": "code",
   "execution_count": null,
   "metadata": {},
   "outputs": [],
   "source": [
    "gateway_to_country = {}\n",
    "for gateway in tqdm(get_gateways):\n",
    "        ip_list = get_ip_list(gateway['domain'])\n",
    "        gateway_to_country[gateway['name']] = set()\n",
    "        for ip in ip_list:\n",
    "            gateway_to_country[gateway['name']].add(get_country_name(ip))    "
   ]
  },
  {
   "cell_type": "markdown",
   "metadata": {},
   "source": [
    "For each gateway we have associated a set of countries. We now replace the set by strings."
   ]
  },
  {
   "cell_type": "code",
   "execution_count": null,
   "metadata": {},
   "outputs": [],
   "source": [
    "#replace the set with a string \n",
    "#either '?' if empty \n",
    "#or the actual country in the set\n",
    "for gateway,coutries in gateway_to_country.items():\n",
    "    if coutries == set():\n",
    "        gateway_to_country[gateway] = '?'\n",
    "    if len(coutries) == 1:\n",
    "        gateway_to_country[gateway] = coutries.pop()"
   ]
  },
  {
   "cell_type": "markdown",
   "metadata": {},
   "source": [
    "List of gateways with their fiscal localisation according to https://wipple.devnull.network/research/gateways.html"
   ]
  },
  {
   "cell_type": "code",
   "execution_count": null,
   "metadata": {},
   "outputs": [],
   "source": [
    "gateways_names_to_fiscal_countries = { \n",
    "    'Bitstamp' : 'Britain (UK)',\n",
    "    'Coinex' : 'Hong Kong',\n",
    "    'Bitso' : 'Mexico',\n",
    "    'Rippex' : 'Brazil?',\n",
    "    'SnapSwap' : 'Luxembourg',\n",
    "    'Gatehub Fifth' : 'Britain (UK)',\n",
    "    'Gatehub' : 'Britain (UK)',\n",
    "    'Mr. Exchange' : 'Japan',\n",
    "    'The Rock Trading' : 'Italy',\n",
    "    'Dividend Rippler' : '?',\n",
    "    'Justcoin' : 'Norway',\n",
    "    'Pax Moneta' : 'Korea (South)',\n",
    "    'Payroutes' : 'Israel?',\n",
    "    'Ripple LatAm' : '?',\n",
    "    'WisePass' : 'Britain (UK)',\n",
    "    'rippleCN' : '?',\n",
    "    'Ripula' : 'Britain (UK)',\n",
    "    'Ripple Exchange Tokyo' : '?',\n",
    "    'TokyoJPY' : 'Japan',\n",
    "    'Digital Gate Japan' : '?',\n",
    "    'Ripple Trade Japan' : '?',\n",
    "    'Ripple Singapore' : 'Singapore',\n",
    "    'Lake BTC' : 'China',\n",
    "    'Ripple Fox' : 'China',\n",
    "    'RippleChina' : '?',\n",
    "    'DotPayco' : '?',\n",
    "    'RippleUnion' : 'Canada',\n",
    "    'BPG' : 'Slovenia',\n",
    "    'GBI' : 'United States',\n",
    "    'EXRP' : 'Korea (South)',\n",
    "}"
   ]
  },
  {
   "cell_type": "markdown",
   "metadata": {},
   "source": [
    "We know the fiscal and the servers location for each gateway. We just merged them in a same dictionnary"
   ]
  },
  {
   "cell_type": "code",
   "execution_count": null,
   "metadata": {},
   "outputs": [],
   "source": [
    "for gateway_1,server_country in gateway_to_country.items():\n",
    "    for gateway_2,fiscal_country in gateways_names_to_fiscal_countries.items():\n",
    "        if gateway_1 == gateway_2:\n",
    "            gateway_to_country[gateway_1] = fiscal_country + ', ' + server_country"
   ]
  },
  {
   "cell_type": "markdown",
   "metadata": {},
   "source": [
    "In the `gateway_to_country` dictionnary, for a gateway the first coresponding country is the fiscal location and the second country is the servers location."
   ]
  },
  {
   "cell_type": "code",
   "execution_count": null,
   "metadata": {},
   "outputs": [],
   "source": [
    "gateway_to_country"
   ]
  },
  {
   "cell_type": "code",
   "execution_count": null,
   "metadata": {},
   "outputs": [],
   "source": [
    "with open('../data/gateways/gateway_to_country.pickle', 'wb') as f:\n",
    "    pickle.dump(gateway_to_country, f, protocol=pickle.HIGHEST_PROTOCOL) #save to disk"
   ]
  },
  {
   "cell_type": "markdown",
   "metadata": {},
   "source": [
    "### 2. Currency and gateways\n",
    "We now want to look for each transaction, if there is a gateway that is on the transaction path as a first or last hop. If that is the case we also want to know what is the currency of this first or last link. <br>\n",
    "We then plot the currencies used for each gateway and conversly the gateways used for each currencies."
   ]
  },
  {
   "cell_type": "code",
   "execution_count": null,
   "metadata": {},
   "outputs": [],
   "source": [
    "gateway_to_nb_txns_per_currency = collections.defaultdict(dict)\n",
    "\n",
    "# add to the dictionnary one to the count of currency_link as hoptype for the gateway_name.\n",
    "def add_hop(dictionnary,gateway_name,currency_link,hoptype):\n",
    "    dictionnary[gateway_name] = dictionnary.get(gateway_name,{})\n",
    "    dictionnary[gateway_name][hoptype] = dictionnary[gateway_name].get(hoptype,{})\n",
    "    dictionnary[gateway_name][hoptype][currency_link] = dictionnary[gateway_name][hoptype].get(currency_link,0) + 1\n",
    "    \n",
    "# Iterate through all transactions  \n",
    "for txn in tqdm(data):\n",
    "    if(txn['success'] == 'tesSUCCESS'):\n",
    "        if 'links' in txn.keys():\n",
    "            sender = txn['sender']\n",
    "            receiver = txn['receiver']\n",
    "            for link in txn['links']:\n",
    "                currency_link = link['currency']\n",
    "                #first hop\n",
    "                if sender == link['node1'] and sender == link['holder'] and link['isIncr'] == False:\n",
    "                    if link['node2'] in gateways_address_to_name.keys():\n",
    "                        gateway_name = gateways_address_to_name[link['node2']]\n",
    "                        add_hop(gateway_to_nb_txns_per_currency,gateway_name,currency_link,'FirstHop')\n",
    "                elif sender == link['node1'] and link['holder'] == link['node2'] and link['isIncr'] == True: \n",
    "                    if link['node2'] in gateways_address_to_name.keys():\n",
    "                        gateway_name = gateways_address_to_name[link['node2']]\n",
    "                        add_hop(gateway_to_nb_txns_per_currency,gateway_name,currency_link,'FirstHop')\n",
    "                elif sender == link['node2'] and sender == link['holder'] and link['isIncr'] == False:\n",
    "                    if link['node1'] in gateways_address_to_name.keys():        \n",
    "                        gateway_name = gateways_address_to_name[link['node1']]\n",
    "                        add_hop(gateway_to_nb_txns_per_currency,gateway_name,currency_link,'FirstHop')\n",
    "                elif sender == link['node2'] and link['holder'] == link['node1'] and link['isIncr'] == True:\n",
    "                    if link['node1'] in gateways_address_to_name.keys():        \n",
    "                        gateway_name = gateways_address_to_name[link['node1']]\n",
    "                        add_hop(gateway_to_nb_txns_per_currency,gateway_name,currency_link,'FirstHop')\n",
    "                        \n",
    "                #lasthop\n",
    "                elif receiver == link['node1'] and receiver == link['holder'] and link['isIncr'] == True:\n",
    "                    if link['node2'] in gateways_address_to_name.keys():\n",
    "                        gateway_name = gateways_address_to_name[link['node2']]\n",
    "                        add_hop(gateway_to_nb_txns_per_currency,gateway_name,currency_link,'LastHop')\n",
    "                elif receiver == link['node1'] and link['holder'] == link['node2'] and link['isIncr'] == False: \n",
    "                    if link['node2'] in gateways_address_to_name.keys():\n",
    "                        gateway_name = gateways_address_to_name[link['node2']]\n",
    "                        add_hop(gateway_to_nb_txns_per_currency,gateway_name,currency_link,'LastHop')\n",
    "                elif receiver == link['node2'] and receiver == link['holder'] and link['isIncr'] == True:\n",
    "                    if link['node1'] in gateways_address_to_name.keys():\n",
    "                        gateway_name = gateways_address_to_name[link['node1']]\n",
    "                        add_hop(gateway_to_nb_txns_per_currency,gateway_name,currency_link,'LastHop')\n",
    "                elif receiver == link['node2'] and link['holder'] == link['node1'] and link['isIncr'] == False:\n",
    "                    if link['node1'] in gateways_address_to_name.keys():\n",
    "                        gateway_name = gateways_address_to_name[link['node1']]\n",
    "                        add_hop(gateway_to_nb_txns_per_currency,gateway_name,currency_link,'LastHop')\n",
    "                        \n",
    "for gateway,hops in gateway_to_nb_txns_per_currency.items():\n",
    "    gateway_to_nb_txns_per_currency[gateway] = collections.OrderedDict(sorted(hops.items())) #make same FirstHop appears as first on the next graphs"
   ]
  },
  {
   "cell_type": "code",
   "execution_count": null,
   "metadata": {},
   "outputs": [],
   "source": [
    "currency_to_nb_txns_per_gateways = collections.defaultdict(dict)\n",
    "\n",
    "# add to the dictionnary one to the count of gateway_name as hoptype for the currency_link.\n",
    "def add_hop_2(dictionnary,gateway_name,currency_link,hoptype):\n",
    "    dictionnary[currency_link] = dictionnary.get(currency_link,{})\n",
    "    dictionnary[currency_link][hoptype] = dictionnary[currency_link].get(hoptype,{})\n",
    "    dictionnary[currency_link][hoptype][gateway_name] = dictionnary[currency_link][hoptype].get(gateway_name,0) + 1\n",
    "\n",
    "# Iterate through all transactions        \n",
    "for txn in tqdm(data):\n",
    "    if(txn['success'] == 'tesSUCCESS'):\n",
    "        if 'links' in txn.keys():\n",
    "            sender = txn['sender']\n",
    "            receiver = txn['receiver']\n",
    "            for link in txn['links']:\n",
    "                currency_link = link['currency']\n",
    "               #first hop\n",
    "                if sender == link['node1'] and sender == link['holder'] and link['isIncr'] == False:\n",
    "                    if link['node2'] in gateways_address_to_name.keys():\n",
    "                        gateway_name = gateways_address_to_name[link['node2']]\n",
    "                        add_hop_2(currency_to_nb_txns_per_gateways,gateway_name,currency_link,'FirstHop')\n",
    "                elif sender == link['node1'] and link['holder'] == link['node2'] and link['isIncr'] == True: \n",
    "                    if link['node2'] in gateways_address_to_name.keys():\n",
    "                        gateway_name = gateways_address_to_name[link['node2']]\n",
    "                        add_hop_2(currency_to_nb_txns_per_gateways,gateway_name,currency_link,'FirstHop')\n",
    "                elif sender == link['node2'] and sender == link['holder'] and link['isIncr'] == False:\n",
    "                    if link['node1'] in gateways_address_to_name.keys():        \n",
    "                        gateway_name = gateways_address_to_name[link['node1']]\n",
    "                        add_hop_2(currency_to_nb_txns_per_gateways,gateway_name,currency_link,'FirstHop')\n",
    "                elif sender == link['node2'] and link['holder'] == link['node1'] and link['isIncr'] == True:\n",
    "                    if link['node1'] in gateways_address_to_name.keys():        \n",
    "                        gateway_name = gateways_address_to_name[link['node1']]\n",
    "                        add_hop_2(currency_to_nb_txns_per_gateways,gateway_name,currency_link,'FirstHop')\n",
    "                \n",
    "                #lasthop\n",
    "                elif receiver == link['node1'] and receiver == link['holder'] and link['isIncr'] == True:\n",
    "                    if link['node2'] in gateways_address_to_name.keys():\n",
    "                        gateway_name = gateways_address_to_name[link['node2']]\n",
    "                        add_hop_2(currency_to_nb_txns_per_gateways,gateway_name,currency_link,'LastHop')\n",
    "                elif receiver == link['node1'] and link['holder'] == link['node2'] and link['isIncr'] == False: \n",
    "                    if link['node2'] in gateways_address_to_name.keys():\n",
    "                        gateway_name = gateways_address_to_name[link['node2']]\n",
    "                        add_hop_2(currency_to_nb_txns_per_gateways,gateway_name,currency_link,'LastHop')\n",
    "                elif receiver == link['node2'] and receiver == link['holder'] and link['isIncr'] == True:\n",
    "                    if link['node1'] in gateways_address_to_name.keys():\n",
    "                        gateway_name = gateways_address_to_name[link['node1']]\n",
    "                        add_hop_2(currency_to_nb_txns_per_gateways,gateway_name,currency_link,'LastHop')\n",
    "                elif receiver == link['node2'] and link['holder'] == link['node1'] and link['isIncr'] == False:\n",
    "                    if link['node1'] in gateways_address_to_name.keys():\n",
    "                        gateway_name = gateways_address_to_name[link['node1']]\n",
    "                        add_hop_2(currency_to_nb_txns_per_gateways,gateway_name,currency_link,'LastHop')\n",
    "                   \n",
    "for currency,hops in currency_to_nb_txns_per_gateways.items():\n",
    "    currency_to_nb_txns_per_gateways[currency] = collections.OrderedDict(sorted(hops.items())) #make same FirstHop appears as first on the next graphs"
   ]
  },
  {
   "cell_type": "code",
   "execution_count": null,
   "metadata": {},
   "outputs": [],
   "source": [
    "plt.figure(figsize=(15,20)) \n",
    "number_of_gateways = len(gateway_to_nb_txns_per_currency.keys())\n",
    "number_of_rows = math.ceil(number_of_gateways / 3)\n",
    "\n",
    "#index for each subplot\n",
    "index = 0 \n",
    "\n",
    "#get one colors for each currency\n",
    "number_of_currencies = len(currency_to_nb_txns_per_gateways.keys()) + 1 #+1 for the 'others'\n",
    "colormap = plt.cm.rainbow\n",
    "colors = [colormap(i) for i in np.linspace(0, 1,number_of_currencies)] #get number_of_currencies colors\n",
    "shuffle(colors) #randomize the picked colors\n",
    "\n",
    "#assign a number to each color\n",
    "currency_to_colors = {}\n",
    "index_color = 0\n",
    "for currency in currency_to_nb_txns_per_gateways.keys():\n",
    "    currency_to_colors[currency] = colors[index_color]\n",
    "    index_color+=1\n",
    "\n",
    "#now we plot\n",
    "for gateway,hops in gateway_to_nb_txns_per_currency.items():\n",
    "    index+=1\n",
    "    plt.subplot(number_of_rows, 3, index)\n",
    "    pos=0\n",
    "    for hop,counts in hops.items():\n",
    "        sorted_counts = collections.OrderedDict(sorted(counts.items(),key=operator.itemgetter(1),reverse = False))\n",
    "        total = sum(sorted_counts.values())\n",
    "        summ = 0 #where to start from (to stack the bar)\n",
    "        littles = 0\n",
    "        plotted_littles = False\n",
    "    \n",
    "        for currency,count in sorted_counts.items():\n",
    "            bars = count/total*100\n",
    "            \n",
    "            #if under 5% we add to the littles category\n",
    "            if bars < 5: \n",
    "                   littles+= bars\n",
    "            else:\n",
    "                if(not plotted_littles and littles != 0):\n",
    "                    color = colors[-1] #last color\n",
    "                    ploted_littles = True\n",
    "                    plt.bar(pos,littles,width = 10,color = color)\n",
    "                    plt.text(pos,littles*0.5,'others',horizontalalignment='center',verticalalignment='center')\n",
    "                color = currency_to_colors[currency]\n",
    "                plt.bar(pos,bars,bottom = summ,width = 10,color = color)\n",
    "                \n",
    "                #add country to currency string if it is not a cryptocurrency\n",
    "                try:\n",
    "                    currency+= (' ('+ccy.country(ccy.currency(currency).default_country)+')')\n",
    "                except:\n",
    "                    currency+= ('')\n",
    "                \n",
    "                plt.text(pos,summ+bars*0.5,currency,horizontalalignment='center',verticalalignment='center')\n",
    "\n",
    "            summ+= bars\n",
    "            \n",
    "        pos+= 12.5\n",
    "        \n",
    "    plt.title(gateway + ' (' + gateway_to_country[gateway]+')')\n",
    "    plt.xticks([0,12.5],list(hops.keys()))\n",
    "    \n",
    "plt.tight_layout()\n",
    "plt.savefig('../visualisations/First_last_hop_currencies_per_gateways.png',dpi = 255)\n",
    "plt.show()"
   ]
  },
  {
   "cell_type": "code",
   "execution_count": null,
   "metadata": {},
   "outputs": [],
   "source": [
    "plt.figure(figsize=(15,30))\n",
    "number_of_currency = len(currency_to_nb_txns_per_gateways.keys())\n",
    "number_of_rows = math.ceil(number_of_currency / 3)\n",
    "\n",
    "#index for each subplot\n",
    "index = 0\n",
    "\n",
    "#get one colors for each currency\n",
    "number_of_gateway = len(gateway_to_nb_txns_per_currency.keys()) + 1 #+1 for the others\n",
    "colormap = plt.cm.rainbow\n",
    "colors = [colormap(i) for i in np.linspace(0, 1,number_of_gateway)] #get number_of_currencies colors\n",
    "shuffle(colors) #randomize the picked colors\n",
    "\n",
    "#assign a number to each color\n",
    "gateway_to_colors = {}\n",
    "index_color = 0\n",
    "for gateway in gateway_to_nb_txns_per_currency.keys():\n",
    "    gateway_to_colors[gateway] = colors[index_color]\n",
    "    index_color+=1\n",
    "\n",
    "#now we plot\n",
    "for currency,hops in currency_to_nb_txns_per_gateways.items():\n",
    "    index+=1\n",
    "    plt.subplot(number_of_rows, 3, index)\n",
    "    pos=0\n",
    "    for hop,counts in hops.items():\n",
    "        sorted_counts = collections.OrderedDict(sorted(counts.items(),key=operator.itemgetter(1),reverse = False))\n",
    "        total = sum(sorted_counts.values())\n",
    "        summ = 0 #where to start from (to stack the bar)\n",
    "        littles = 0\n",
    "        plotted_littles = False\n",
    "    \n",
    "        for gateway,count in sorted_counts.items():\n",
    "            bars = count/total*100\n",
    "            \n",
    "            #if under 5% we add to the littles category\n",
    "            if bars < 5:\n",
    "                   littles+= bars \n",
    "            else:\n",
    "                if(not plotted_littles and littles != 0):\n",
    "                    color = colors[-1] #last color\n",
    "                    ploted_littles = True\n",
    "                    plt.bar(pos,littles,width = 10,color = color)\n",
    "                    plt.tfext(pos,littles*0.5,'littles',horizontalalignment='center',verticalalignment='center')\n",
    "                color = gateway_to_colors[gateway]\n",
    "                plt.bar(pos,bars,bottom = summ,width = 10,color = color)\n",
    "                plt.text(pos,summ+bars*0.5,gateway + '\\n(' + gateway_to_country[gateway]+')',horizontalalignment='center',verticalalignment='center')\n",
    "\n",
    "            summ+= bars\n",
    "            \n",
    "        pos+= 12.5\n",
    "        \n",
    "    #add country to currency string if it is not a cryptocurrency\n",
    "    try:\n",
    "        currency+= (' ('+ccy.country(ccy.currency(currency).default_country)+')')\n",
    "    except :\n",
    "        currency+= ('')\n",
    "        \n",
    "    plt.title(currency)\n",
    "    plt.xticks([0,12.5],list(hops.keys()))\n",
    "    \n",
    "plt.tight_layout()\n",
    "plt.savefig('../visualisations/First_last_hop_gateways_per_currency.png',dpi = 255)\n",
    "plt.show()"
   ]
  }
 ],
 "metadata": {
  "kernelspec": {
   "display_name": "Python 3",
   "language": "python",
   "name": "python3"
  }
 },
 "nbformat": 4,
 "nbformat_minor": 2
}

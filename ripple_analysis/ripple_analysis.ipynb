{
 "cells": [
  {
   "cell_type": "code",
   "execution_count": 744,
   "metadata": {},
   "outputs": [],
   "source": [
    "import json\n",
    "import pandas as pd\n",
    "import time\n",
    "import ccy \n",
    "from tqdm import tqdm_notebook as tqdm\n",
    "import collections\n",
    "from collections import Counter"
   ]
  },
  {
   "cell_type": "code",
   "execution_count": 6,
   "metadata": {},
   "outputs": [],
   "source": [
    "from ripple_api import RippleDataAPIClient,RippleRPCClient\n",
    "api = RippleDataAPIClient('https://data.ripple.com')\n",
    "rpc = RippleRPCClient('http://s1.ripple.com:51234/')"
   ]
  },
  {
   "cell_type": "markdown",
   "metadata": {},
   "source": [
    "# 0. Data"
   ]
  },
  {
   "cell_type": "markdown",
   "metadata": {},
   "source": [
    "Read the data, run only once "
   ]
  },
  {
   "cell_type": "code",
   "execution_count": 7,
   "metadata": {},
   "outputs": [],
   "source": [
    "df = pd.read_csv(\"ripple-transactions-jan-2013-dec-2016.csv\")"
   ]
  },
  {
   "cell_type": "code",
   "execution_count": 1157,
   "metadata": {},
   "outputs": [
    {
     "data": {
      "text/html": [
       "<div>\n",
       "<style scoped>\n",
       "    .dataframe tbody tr th:only-of-type {\n",
       "        vertical-align: middle;\n",
       "    }\n",
       "\n",
       "    .dataframe tbody tr th {\n",
       "        vertical-align: top;\n",
       "    }\n",
       "\n",
       "    .dataframe thead th {\n",
       "        text-align: right;\n",
       "    }\n",
       "</style>\n",
       "<table border=\"1\" class=\"dataframe\">\n",
       "  <thead>\n",
       "    <tr style=\"text-align: right;\">\n",
       "      <th></th>\n",
       "      <th>Unnamed: 0</th>\n",
       "      <th>hash</th>\n",
       "      <th>sender</th>\n",
       "      <th>receiver</th>\n",
       "      <th>currency</th>\n",
       "      <th>amount</th>\n",
       "      <th>ledger</th>\n",
       "      <th>sourceTag</th>\n",
       "      <th>DestinationTag</th>\n",
       "      <th>9</th>\n",
       "      <th>10</th>\n",
       "    </tr>\n",
       "  </thead>\n",
       "  <tbody>\n",
       "    <tr>\n",
       "      <th>0</th>\n",
       "      <td>0</td>\n",
       "      <td>5C0504B229CD8EE803B01D78868B8F4B595D8B1D03636B...</td>\n",
       "      <td>rfe8yiZUymRPx35BEwGjhfkaLmgNsTytxT</td>\n",
       "      <td>rsdbFqwyGYX5fSvAmMEXBH2hRyBT8QfcUS</td>\n",
       "      <td>XRP</td>\n",
       "      <td>0.1</td>\n",
       "      <td>7227428</td>\n",
       "      <td>NaN</td>\n",
       "      <td>NaN</td>\n",
       "      <td>1</td>\n",
       "      <td>1402920660</td>\n",
       "    </tr>\n",
       "    <tr>\n",
       "      <th>1</th>\n",
       "      <td>1</td>\n",
       "      <td>56022C64D29974C116591563DC8A80547907BE38EEB134...</td>\n",
       "      <td>rfe8yiZUymRPx35BEwGjhfkaLmgNsTytxT</td>\n",
       "      <td>rsdbFqwyGYX5fSvAmMEXBH2hRyBT8QfcUS</td>\n",
       "      <td>XRP</td>\n",
       "      <td>0.1</td>\n",
       "      <td>7224947</td>\n",
       "      <td>NaN</td>\n",
       "      <td>NaN</td>\n",
       "      <td>1</td>\n",
       "      <td>1402908860</td>\n",
       "    </tr>\n",
       "    <tr>\n",
       "      <th>2</th>\n",
       "      <td>2</td>\n",
       "      <td>CCA2EB48BC106C7F4692BF71819EC236C9E09E37BCF38C...</td>\n",
       "      <td>rsdbFqwyGYX5fSvAmMEXBH2hRyBT8QfcUS</td>\n",
       "      <td>rhjyoR8rpLMKM47pUgTjdNuVDJ1CrYYBwT</td>\n",
       "      <td>XRP</td>\n",
       "      <td>2000.0</td>\n",
       "      <td>5541569</td>\n",
       "      <td>NaN</td>\n",
       "      <td>NaN</td>\n",
       "      <td>1</td>\n",
       "      <td>1394924250</td>\n",
       "    </tr>\n",
       "    <tr>\n",
       "      <th>3</th>\n",
       "      <td>3</td>\n",
       "      <td>423708E30D94335FE2858C11B3D57390669A20FCE6C485...</td>\n",
       "      <td>rMTzGg7nPPEMJthjgEBfiPZGoAM7MEVa1r</td>\n",
       "      <td>rsdbFqwyGYX5fSvAmMEXBH2hRyBT8QfcUS</td>\n",
       "      <td>XRP</td>\n",
       "      <td>2020.0</td>\n",
       "      <td>3333190</td>\n",
       "      <td>NaN</td>\n",
       "      <td>NaN</td>\n",
       "      <td>1</td>\n",
       "      <td>1384463290</td>\n",
       "    </tr>\n",
       "    <tr>\n",
       "      <th>4</th>\n",
       "      <td>4</td>\n",
       "      <td>C1E342D3168740197C7E6B84110CEF9A338EA0D0EF5697...</td>\n",
       "      <td>rLz6TEYTsSZivwgXssq8ZSmTsBSFTMCw7h</td>\n",
       "      <td>rffqWVgnv9bPKaWHHVUDMjdAEgab3LGjZ1</td>\n",
       "      <td>XRP</td>\n",
       "      <td>100.0</td>\n",
       "      <td>6965416</td>\n",
       "      <td>NaN</td>\n",
       "      <td>NaN</td>\n",
       "      <td>1</td>\n",
       "      <td>1401681860</td>\n",
       "    </tr>\n",
       "  </tbody>\n",
       "</table>\n",
       "</div>"
      ],
      "text/plain": [
       "   Unnamed: 0                                               hash  \\\n",
       "0           0  5C0504B229CD8EE803B01D78868B8F4B595D8B1D03636B...   \n",
       "1           1  56022C64D29974C116591563DC8A80547907BE38EEB134...   \n",
       "2           2  CCA2EB48BC106C7F4692BF71819EC236C9E09E37BCF38C...   \n",
       "3           3  423708E30D94335FE2858C11B3D57390669A20FCE6C485...   \n",
       "4           4  C1E342D3168740197C7E6B84110CEF9A338EA0D0EF5697...   \n",
       "\n",
       "                               sender                            receiver  \\\n",
       "0  rfe8yiZUymRPx35BEwGjhfkaLmgNsTytxT  rsdbFqwyGYX5fSvAmMEXBH2hRyBT8QfcUS   \n",
       "1  rfe8yiZUymRPx35BEwGjhfkaLmgNsTytxT  rsdbFqwyGYX5fSvAmMEXBH2hRyBT8QfcUS   \n",
       "2  rsdbFqwyGYX5fSvAmMEXBH2hRyBT8QfcUS  rhjyoR8rpLMKM47pUgTjdNuVDJ1CrYYBwT   \n",
       "3  rMTzGg7nPPEMJthjgEBfiPZGoAM7MEVa1r  rsdbFqwyGYX5fSvAmMEXBH2hRyBT8QfcUS   \n",
       "4  rLz6TEYTsSZivwgXssq8ZSmTsBSFTMCw7h  rffqWVgnv9bPKaWHHVUDMjdAEgab3LGjZ1   \n",
       "\n",
       "  currency  amount   ledger  sourceTag  DestinationTag  9          10  \n",
       "0      XRP     0.1  7227428        NaN             NaN  1  1402920660  \n",
       "1      XRP     0.1  7224947        NaN             NaN  1  1402908860  \n",
       "2      XRP  2000.0  5541569        NaN             NaN  1  1394924250  \n",
       "3      XRP  2020.0  3333190        NaN             NaN  1  1384463290  \n",
       "4      XRP   100.0  6965416        NaN             NaN  1  1401681860  "
      ]
     },
     "execution_count": 1157,
     "metadata": {},
     "output_type": "execute_result"
    }
   ],
   "source": [
    "df.head()"
   ]
  },
  {
   "cell_type": "code",
   "execution_count": 8,
   "metadata": {},
   "outputs": [
    {
     "data": {
      "application/vnd.jupyter.widget-view+json": {
       "model_id": "052e772708b841b0831c71a1f6c3cba0",
       "version_major": 2,
       "version_minor": 0
      },
      "text/plain": [
       "HBox(children=(IntProgress(value=0, max=1599868), HTML(value='')))"
      ]
     },
     "metadata": {},
     "output_type": "display_data"
    },
    {
     "name": "stdout",
     "output_type": "stream",
     "text": [
      "\n"
     ]
    },
    {
     "data": {
      "application/vnd.jupyter.widget-view+json": {
       "model_id": "e61461223f7b47ec8ed3beb1fc3573c7",
       "version_major": 2,
       "version_minor": 0
      },
      "text/plain": [
       "HBox(children=(IntProgress(value=0, max=2021479), HTML(value='')))"
      ]
     },
     "metadata": {},
     "output_type": "display_data"
    },
    {
     "name": "stdout",
     "output_type": "stream",
     "text": [
      "\n"
     ]
    }
   ],
   "source": [
    "data = []\n",
    "with open('more-txs-from-missing-parsed.json') as f:\n",
    "    for line in tqdm(list(f)):\n",
    "        data.append(json.loads(line))\n",
    "with open('final_txs_2017.json') as f:\n",
    "    for line in tqdm(list(f)):\n",
    "        data.append(json.loads(line)) "
   ]
  },
  {
   "cell_type": "code",
   "execution_count": 1158,
   "metadata": {},
   "outputs": [
    {
     "name": "stdout",
     "output_type": "stream",
     "text": [
      "{\n",
      "    \"fee\": 1.1e-05,\n",
      "    \"hash\": \"C221FA5733D106AB6A0D941050FC6702874D6707028A0757525E7413A8B1235A\",\n",
      "    \"sender\": \"rwMyB1diFJ7xqEKYGYgk9tKrforvTr33M5\",\n",
      "    \"success\": \"tesSUCCESS\",\n",
      "    \"actualReceiverAmount\": \"0.000001\",\n",
      "    \"XRPAcc\": [\n",
      "        {\n",
      "            \"isIncr\": false,\n",
      "            \"account\": \"rwMyB1diFJ7xqEKYGYgk9tKrforvTr33M5\",\n",
      "            \"amount\": 1.1999999998124622e-05\n",
      "        },\n",
      "        {\n",
      "            \"isIncr\": true,\n",
      "            \"account\": \"rfbKLd1VLB3o6fpkhCJexckArjoMmBm2wG\",\n",
      "            \"amount\": 9.997747838497162e-07\n",
      "        }\n",
      "    ],\n",
      "    \"flags\": \"\",\n",
      "    \"actualReceiverCurrency\": \"XRP\",\n",
      "    \"receiver\": \"rfbKLd1VLB3o6fpkhCJexckArjoMmBm2wG\",\n",
      "    \"date\": \"2014-01-26T18:13:10+00:00\",\n",
      "    \"actualIssuerReceiver\": \"--\"\n",
      "}\n",
      "{\n",
      "    \"fee\": 1e-05,\n",
      "    \"hash\": \"3F7A1B3A771D477B03104E86CE73790BB8C8E516BEE680BB4AD9893444D21CF3\",\n",
      "    \"sender\": \"rHb9CJAWyB4rj91VRWn96DkukG4bwdtyTh\",\n",
      "    \"success\": \"tesSUCCESS\",\n",
      "    \"actualReceiverAmount\": \"0.000001\",\n",
      "    \"XRPAcc\": [\n",
      "        {\n",
      "            \"isIncr\": false,\n",
      "            \"account\": \"rHb9CJAWyB4rj91VRWn96DkukG4bwdtyTh\",\n",
      "            \"amount\": 1.100000000064938e-05\n",
      "        },\n",
      "        {\n",
      "            \"isIncr\": true,\n",
      "            \"account\": \"rbvFfuUysurzPHq5kgs53A16j5svbFxgv\",\n",
      "            \"amount\": 1.0000001111620804e-06\n",
      "        }\n",
      "    ],\n",
      "    \"flags\": \"\",\n",
      "    \"actualReceiverCurrency\": \"XRP\",\n",
      "    \"receiver\": \"rbvFfuUysurzPHq5kgs53A16j5svbFxgv\",\n",
      "    \"date\": \"2013-06-29T13:10:20+00:00\",\n",
      "    \"actualIssuerReceiver\": \"--\"\n",
      "}\n",
      "{\n",
      "    \"fee\": 1.5e-05,\n",
      "    \"hash\": \"13493FE9AB31CDFA832BEEE047EB5AA1E462ACF03DD8F459B84B4B55AC8E5552\",\n",
      "    \"sender\": \"rMLtFZE6ZvLkiRet8Bncs8EZEWQYXyXixN\",\n",
      "    \"success\": \"tesSUCCESS\",\n",
      "    \"actualReceiverAmount\": \"500.000000\",\n",
      "    \"XRPAcc\": [\n",
      "        {\n",
      "            \"isIncr\": false,\n",
      "            \"account\": \"rMLtFZE6ZvLkiRet8Bncs8EZEWQYXyXixN\",\n",
      "            \"amount\": 500.0000149999978\n",
      "        },\n",
      "        {\n",
      "            \"isIncr\": true,\n",
      "            \"account\": \"rFLiPgtkFCHvWLga7M8dxyDBZpNBhQVJ5\",\n",
      "            \"amount\": 500.0\n",
      "        }\n",
      "    ],\n",
      "    \"flags\": \"\",\n",
      "    \"actualReceiverCurrency\": \"XRP\",\n",
      "    \"receiver\": \"rFLiPgtkFCHvWLga7M8dxyDBZpNBhQVJ5\",\n",
      "    \"date\": \"2013-08-30T22:51:00+00:00\",\n",
      "    \"actualIssuerReceiver\": \"--\"\n",
      "}\n",
      "{\n",
      "    \"fee\": 1e-05,\n",
      "    \"hash\": \"CA2BF28D6674C96A84227D0BBFDAA2DF79B9F376268C28E3E23C9864FEB154CD\",\n",
      "    \"sender\": \"rNShY9Hb7pxSjdkwWaUQy2seULysC59YyK\",\n",
      "    \"success\": \"tesSUCCESS\",\n",
      "    \"actualReceiverAmount\": \"0.100000\",\n",
      "    \"XRPAcc\": [\n",
      "        {\n",
      "            \"isIncr\": false,\n",
      "            \"account\": \"rNShY9Hb7pxSjdkwWaUQy2seULysC59YyK\",\n",
      "            \"amount\": 0.10000999999999749\n",
      "        },\n",
      "        {\n",
      "            \"isIncr\": true,\n",
      "            \"account\": \"rffYh9CXWYR1Np2gGeQjpmVrUpK6gd5qLk\",\n",
      "            \"amount\": 0.10000000000218279\n",
      "        }\n",
      "    ],\n",
      "    \"flags\": [\n",
      "        \"tfFullyCanonicalSig\"\n",
      "    ],\n",
      "    \"actualReceiverCurrency\": \"XRP\",\n",
      "    \"receiver\": \"rffYh9CXWYR1Np2gGeQjpmVrUpK6gd5qLk\",\n",
      "    \"date\": \"2014-09-18T12:33:50+00:00\",\n",
      "    \"actualIssuerReceiver\": \"--\"\n",
      "}\n",
      "{\n",
      "    \"fee\": 1.5e-05,\n",
      "    \"hash\": \"0ECEEC05A700E33653FCB3F8F12F79D92B78D1F1F0AA579FE3B8307E0FE64F21\",\n",
      "    \"sender\": \"rFLiPgtkFCHvWLga7M8dxyDBZpNBhQVJ5\",\n",
      "    \"success\": \"tesSUCCESS\",\n",
      "    \"actualReceiverAmount\": \"60.000000\",\n",
      "    \"XRPAcc\": [\n",
      "        {\n",
      "            \"isIncr\": true,\n",
      "            \"account\": \"rMygTuAbzcqArJ5MsqG5XEHrP4UV8sNBko\",\n",
      "            \"amount\": 60.0\n",
      "        },\n",
      "        {\n",
      "            \"isIncr\": false,\n",
      "            \"account\": \"rFLiPgtkFCHvWLga7M8dxyDBZpNBhQVJ5\",\n",
      "            \"amount\": 60.0000149999978\n",
      "        }\n",
      "    ],\n",
      "    \"flags\": \"\",\n",
      "    \"actualReceiverCurrency\": \"XRP\",\n",
      "    \"receiver\": \"rMygTuAbzcqArJ5MsqG5XEHrP4UV8sNBko\",\n",
      "    \"date\": \"2013-10-31T06:58:30+00:00\",\n",
      "    \"actualIssuerReceiver\": \"--\"\n",
      "}\n"
     ]
    }
   ],
   "source": [
    "for txn in data[0:5]:\n",
    "    print(json.dumps(txn,indent = 4))"
   ]
  },
  {
   "cell_type": "markdown",
   "metadata": {},
   "source": [
    "# 1.Transactions"
   ]
  },
  {
   "cell_type": "markdown",
   "metadata": {},
   "source": [
    "## 1.1 First hop"
   ]
  },
  {
   "cell_type": "code",
   "execution_count": null,
   "metadata": {},
   "outputs": [],
   "source": [
    "wallets_first_hop = collections.defaultdict(list)\n",
    "for txn in tqdm(data):\n",
    "    sender = txn[\"sender\"]\n",
    "    try:\n",
    "        for link in txn[\"links\"]:\n",
    "            if link[\"node1\"] == sender:\n",
    "                wallets_first_hop[sender].append(link[\"node2\"])\n",
    "    except KeyError:\n",
    "        continue "
   ]
  },
  {
   "cell_type": "code",
   "execution_count": 6,
   "metadata": {},
   "outputs": [
    {
     "data": {
      "application/vnd.jupyter.widget-view+json": {
       "model_id": "e057013757f540ea9b3c870c3c2056af",
       "version_major": 2,
       "version_minor": 0
      },
      "text/plain": [
       "HBox(children=(IntProgress(value=0, max=17574), HTML(value='')))"
      ]
     },
     "metadata": {},
     "output_type": "display_data"
    },
    {
     "name": "stdout",
     "output_type": "stream",
     "text": [
      "\n"
     ]
    }
   ],
   "source": [
    "wallet_two_most_hops = {}\n",
    "count_unique_first_hop = 0\n",
    "count_unique_first_hop_if_more_than_one_transaction = 0\n",
    "for k in tqdm(list(wallets_first_hop.keys())):\n",
    "    counter=collections.Counter(wallets_first_hop[k])\n",
    "    wallet_two_most_hops[k] = counter.most_common(2)\n",
    "    if(len(wallet_two_most_hops[k]) == 1):\n",
    "        count_unique_first_hop += 1\n",
    "        for a,b in wallet_two_most_hops[k]:\n",
    "            if(b != 1):\n",
    "                count_unique_first_hop_if_more_than_one_transaction += 1"
   ]
  },
  {
   "cell_type": "code",
   "execution_count": 7,
   "metadata": {},
   "outputs": [
    {
     "name": "stdout",
     "output_type": "stream",
     "text": [
      "There are 85.15420507567998% of wallets that uses always same first hop and only 40.51439626721292% if we consider wallets that did more than 1 transaction\n"
     ]
    }
   ],
   "source": [
    "print(\"There are \" + str(count_unique_first_hop/len(wallet_two_most_hops)*100) + \"% of wallets that uses always same first hop\" +\n",
    "      \" and only \" + str(count_unique_first_hop_if_more_than_one_transaction/len(wallet_two_most_hops)*100) + \"% if we consider wallets that did more than 1 transaction\")"
   ]
  },
  {
   "cell_type": "code",
   "execution_count": 8,
   "metadata": {},
   "outputs": [
    {
     "data": {
      "application/vnd.jupyter.widget-view+json": {
       "model_id": "a1eebb643ed248d7b4ddd9372b8f9792",
       "version_major": 2,
       "version_minor": 0
      },
      "text/plain": [
       "HBox(children=(IntProgress(value=0, max=17574), HTML(value='')))"
      ]
     },
     "metadata": {},
     "output_type": "display_data"
    },
    {
     "name": "stdout",
     "output_type": "stream",
     "text": [
      "\n"
     ]
    }
   ],
   "source": [
    "first_hops = []\n",
    "for k in tqdm(list(wallets_first_hop.keys())):\n",
    "    for hop in list(set(wallets_first_hop[k])):\n",
    "        if hop not in first_hops:\n",
    "            first_hops.append(hop)"
   ]
  },
  {
   "cell_type": "code",
   "execution_count": 9,
   "metadata": {},
   "outputs": [],
   "source": [
    "gateways = api.get_all_gateways()"
   ]
  },
  {
   "cell_type": "code",
   "execution_count": 10,
   "metadata": {},
   "outputs": [
    {
     "data": {
      "application/vnd.jupyter.widget-view+json": {
       "model_id": "648eeb09024f40a3b9fb3e1a48e48d5e",
       "version_major": 2,
       "version_minor": 0
      },
      "text/plain": [
       "HBox(children=(IntProgress(value=0, max=34), HTML(value='')))"
      ]
     },
     "metadata": {},
     "output_type": "display_data"
    },
    {
     "name": "stdout",
     "output_type": "stream",
     "text": [
      "\n"
     ]
    }
   ],
   "source": [
    "gateways_wallet = []\n",
    "for k in tqdm(list(gateways.keys())):\n",
    "    for gateway in gateways[k]:\n",
    "        gateways_wallet.append(gateway[\"account\"])"
   ]
  },
  {
   "cell_type": "code",
   "execution_count": 11,
   "metadata": {},
   "outputs": [],
   "source": [
    "inter = list(set(gateways_wallet) & set(first_hops))"
   ]
  },
  {
   "cell_type": "code",
   "execution_count": 12,
   "metadata": {},
   "outputs": [
    {
     "name": "stdout",
     "output_type": "stream",
     "text": [
      "From the first hops only 4.644412191582003% are know gateways.\n"
     ]
    }
   ],
   "source": [
    "print(\"From the first hops only \"+ str(len(inter)/len(first_hops)*100) + \"% are know gateways.\")"
   ]
  },
  {
   "cell_type": "markdown",
   "metadata": {},
   "source": [
    "## 1.2 No hops"
   ]
  },
  {
   "cell_type": "code",
   "execution_count": 13,
   "metadata": {},
   "outputs": [
    {
     "data": {
      "application/vnd.jupyter.widget-view+json": {
       "model_id": "eb36628ea65845cda1a1c5fd3f1290b4",
       "version_major": 2,
       "version_minor": 0
      },
      "text/plain": [
       "HBox(children=(IntProgress(value=0, max=3621347), HTML(value='')))"
      ]
     },
     "metadata": {},
     "output_type": "display_data"
    },
    {
     "name": "stdout",
     "output_type": "stream",
     "text": [
      "\n"
     ]
    }
   ],
   "source": [
    "all_senders = set()\n",
    "sender_with_paths = set()\n",
    "all_txn = set()\n",
    "txn_with_paths = set()\n",
    "for txn in tqdm(data):\n",
    "    sender = txn[\"sender\"]\n",
    "    txn_hash = txn[\"hash\"]\n",
    "    all_senders.add(sender)\n",
    "    all_txn.add(txn_hash)\n",
    "    if \"paths\" in txn.keys():\n",
    "        sender_with_paths.add(sender)  \n",
    "        txn_with_paths.add(txn_hash)"
   ]
  },
  {
   "cell_type": "code",
   "execution_count": 14,
   "metadata": {},
   "outputs": [],
   "source": [
    "sender_with_only_two_hops = list(all_senders - sender_with_paths)\n",
    "txn_with_only_two_hops = list(all_txn - txn_with_paths)"
   ]
  },
  {
   "cell_type": "code",
   "execution_count": 15,
   "metadata": {},
   "outputs": [
    {
     "name": "stdout",
     "output_type": "stream",
     "text": [
      "We have 87.98582218291993% of senders that never use paths\n"
     ]
    }
   ],
   "source": [
    "print(\"We have \"+ str(len(sender_with_only_two_hops)/len(all_senders)*100) + \"% of senders that never use paths\")"
   ]
  },
  {
   "cell_type": "code",
   "execution_count": 16,
   "metadata": {},
   "outputs": [
    {
     "name": "stdout",
     "output_type": "stream",
     "text": [
      "We have 78.80077420297265% of transactions that never use paths\n"
     ]
    }
   ],
   "source": [
    "print(\"We have \"+ str(len(txn_with_only_two_hops)/len(all_txn)*100) + \"% of transactions that never use paths\")"
   ]
  },
  {
   "cell_type": "markdown",
   "metadata": {},
   "source": [
    "## 1.3. Currency of direct transactions"
   ]
  },
  {
   "cell_type": "code",
   "execution_count": 989,
   "metadata": {},
   "outputs": [
    {
     "data": {
      "application/vnd.jupyter.widget-view+json": {
       "model_id": "e110457294d7473088889eb9f40afa51",
       "version_major": 2,
       "version_minor": 0
      },
      "text/plain": [
       "HBox(children=(IntProgress(value=0, max=3621347), HTML(value='')))"
      ]
     },
     "metadata": {},
     "output_type": "display_data"
    }
   ],
   "source": [
    "currency_direct_txn_not_XRP = set()\n",
    "count_direct_txn_not_XRP = 0\n",
    "count_direct_txn_XRP = 0\n",
    "for i in tqdm(range(len(data))):\n",
    "    txn = data[i]\n",
    "    if txn['success'] == 'tesSUCCESS':\n",
    "        #direct\n",
    "        if 'links' not in txn.keys():\n",
    "            if 'senderCurrency' in txn.keys():\n",
    "                if txn['senderCurrency'] != 'XRP':\n",
    "                    currency_direct_txn_not_XRP.add(txn['senderCurrency'])\n",
    "                    count_direct_txn_not_XRP += 1\n",
    "            else:\n",
    "                count_direct_txn_XRP += 1\n",
    "        #direct (1 link) \n",
    "        else:\n",
    "            if len(txn['links']) <= 1:\n",
    "                if 'offers' not in txn.keys():\n",
    "                    count_direct_txn_XRP += 1"
   ]
  },
  {
   "cell_type": "code",
   "execution_count": 990,
   "metadata": {},
   "outputs": [
    {
     "name": "stdout",
     "output_type": "stream",
     "text": [
      "There are 0.020702439469105882 % of direct payments in other curencies that XRP\n"
     ]
    }
   ],
   "source": [
    "print(\"There are\", count_direct_txn_not_XRP/(count_direct_txn_not_XRP+count_direct_txn_XRP) * 100,\"% of direct payments in other curencies that XRP\")"
   ]
  },
  {
   "cell_type": "code",
   "execution_count": 991,
   "metadata": {},
   "outputs": [
    {
     "data": {
      "application/vnd.jupyter.widget-view+json": {
       "model_id": "377b83a4b2884b86b99762c096f91cf6",
       "version_major": 2,
       "version_minor": 0
      },
      "text/plain": [
       "HBox(children=(IntProgress(value=0, max=34), HTML(value='')))"
      ]
     },
     "metadata": {},
     "output_type": "display_data"
    }
   ],
   "source": [
    "gateways = api.get_all_gateways()\n",
    "online_gateways = ['SnapSwap','Gatehub Fifth','Bitstamp','Payroutes','WisePass','The Rock Trading','RippleChina','DotPayco','Coinex','Ripple Fox','Lake BTC','Bitso','GBI','Gatehub','EXRP','BPG']\n",
    "online_gateways_dict = collections.defaultdict(list)\n",
    "for currency,list_gateways in tqdm(gateways.items()):\n",
    "    for gateway in list_gateways:\n",
    "        if gateway['name'] in online_gateways:\n",
    "            online_gateways_dict[currency].append(gateway)"
   ]
  },
  {
   "cell_type": "code",
   "execution_count": 992,
   "metadata": {},
   "outputs": [],
   "source": [
    "online_gateways_dict = dict(online_gateways_dict)"
   ]
  },
  {
   "cell_type": "code",
   "execution_count": 993,
   "metadata": {},
   "outputs": [
    {
     "data": {
      "application/vnd.jupyter.widget-view+json": {
       "model_id": "1876a3064ea94137bf40d4406de1fe09",
       "version_major": 2,
       "version_minor": 0
      },
      "text/plain": [
       "HBox(children=(IntProgress(value=0, max=32), HTML(value='')))"
      ]
     },
     "metadata": {},
     "output_type": "display_data"
    }
   ],
   "source": [
    "currency_direct_payments_not_offered_by_gateways = 0\n",
    "real_currency_direct_payments_not_offered_by_gateways = 0\n",
    "currency_direct_payments_not_offered_by_online_gateways = 0\n",
    "real_currency_direct_payments_not_offered_by_online_gateways = 0\n",
    "for currency in tqdm(currency_direct_txn_not_XRP):\n",
    "    \n",
    "    #all gateways\n",
    "    if currency not in gateways.keys():\n",
    "        currency_direct_payments_not_offered_by_gateways += 1\n",
    "        if currency == ccy.currency(currency):\n",
    "            real_currency_direct_payments_not_offered_by_gateways += 1\n",
    "\n",
    "    #online gateways\n",
    "    if currency not in online_gateways_dict.keys():\n",
    "        currency_direct_payments_not_offered_by_online_gateways += 1\n",
    "        if currency == ccy.currency(currency):\n",
    "            real_currency_direct_payments_not_offered_by_online_gateways += 1        "
   ]
  },
  {
   "cell_type": "code",
   "execution_count": 1037,
   "metadata": {},
   "outputs": [
    {
     "name": "stdout",
     "output_type": "stream",
     "text": [
      "There are 18 currency that appears in direct payments that are not offered by gateways, of which 0 are real world currencies\n",
      "There are 20 currency that appears in direct payments that are not offered by online gateways, of which 0 are real world currencies\n"
     ]
    }
   ],
   "source": [
    "print(\"There are\", currency_direct_payments_not_offered_by_gateways, \"currency that appears in direct payments that are not offered by gateways, of which\",real_currency_direct_payments_not_offered_by_gateways, \"are real world currencies\")\n",
    "print(\"There are\", currency_direct_payments_not_offered_by_online_gateways, \"currency that appears in direct payments that are not offered by online gateways, of which\",real_currency_direct_payments_not_offered_by_online_gateways, \"are real world currencies\")"
   ]
  },
  {
   "cell_type": "markdown",
   "metadata": {},
   "source": [
    "# 2. Accounts"
   ]
  },
  {
   "cell_type": "markdown",
   "metadata": {},
   "source": [
    "## 2.1 Account creation (Too long using API)"
   ]
  },
  {
   "cell_type": "code",
   "execution_count": 17,
   "metadata": {},
   "outputs": [],
   "source": [
    "query_params = dict(start=\"2012-01-01\",end=\"2019-12-31\",interval=\"week\",family=\"metric\",metrics=\"accounts_created\",limit=1000)\n",
    "created_accounts_per_week = api.get_stats(**query_params)"
   ]
  },
  {
   "cell_type": "code",
   "execution_count": 18,
   "metadata": {},
   "outputs": [
    {
     "data": {
      "application/vnd.jupyter.widget-view+json": {
       "model_id": "23bb2237474a4d6a8adc0dc41d1c49a3",
       "version_major": 2,
       "version_minor": 0
      },
      "text/plain": [
       "HBox(children=(IntProgress(value=0, max=322), HTML(value='')))"
      ]
     },
     "metadata": {},
     "output_type": "display_data"
    },
    {
     "name": "stdout",
     "output_type": "stream",
     "text": [
      "\n"
     ]
    }
   ],
   "source": [
    "nb_accounts = 0\n",
    "for week in tqdm(created_accounts_per_week[\"stats\"]):\n",
    "    nb_accounts += week[\"accounts_created\"]"
   ]
  },
  {
   "cell_type": "code",
   "execution_count": 19,
   "metadata": {},
   "outputs": [
    {
     "name": "stdout",
     "output_type": "stream",
     "text": [
      "There are 1446292 accounts\n"
     ]
    }
   ],
   "source": [
    "print(\"There are\",nb_accounts,\"accounts\")"
   ]
  },
  {
   "cell_type": "code",
   "execution_count": null,
   "metadata": {},
   "outputs": [],
   "source": [
    "all_senders = set()\n",
    "for txn in tqdm(data):\n",
    "    all_senders.add(txn[\"sender\"])"
   ]
  },
  {
   "cell_type": "code",
   "execution_count": 23,
   "metadata": {},
   "outputs": [],
   "source": [
    "all_txn.update(set(df.hash.tolist()))"
   ]
  },
  {
   "cell_type": "code",
   "execution_count": 24,
   "metadata": {},
   "outputs": [],
   "source": [
    "all_txn = list(all_txn_hashes)"
   ]
  },
  {
   "cell_type": "code",
   "execution_count": 28,
   "metadata": {},
   "outputs": [
    {
     "data": {
      "text/plain": [
       "27406875"
      ]
     },
     "execution_count": 28,
     "metadata": {},
     "output_type": "execute_result"
    }
   ],
   "source": [
    "nb_txn = len(all_txn)\n",
    "nb_txn"
   ]
  },
  {
   "cell_type": "markdown",
   "metadata": {},
   "source": [
    "Too long"
   ]
  },
  {
   "cell_type": "code",
   "execution_count": null,
   "metadata": {},
   "outputs": [],
   "source": [
    "creation_txns = []\n",
    "pbar = tqdm(total = nb_txn-1)\n",
    "i=0\n",
    "while(i < nb_txn):\n",
    "    hsh = all_txn[i]\n",
    "    transaction = api.get_transaction(hsh)\n",
    "    if(list(transaction.keys()) == ['status', 'error']):\n",
    "        time.sleep(int(transaction[\"error\"].headers.get('Retry-After')) + 1)\n",
    "    else:\n",
    "        i+=1\n",
    "        pbar.update(1)\n",
    "        for affectedNode in transaction[\"transaction\"][\"meta\"][\"AffectedNodes\"]:\n",
    "            if \"CreatedNode\" in affectedNode.keys():\n",
    "                if(affectedNode[\"CreatedNode\"][\"LedgerEntryType\"] == \"AccountRoot\"):\n",
    "                    creation_txns.append(hsh)\n",
    "pbar.close()                    "
   ]
  },
  {
   "cell_type": "code",
   "execution_count": 15,
   "metadata": {},
   "outputs": [
    {
     "data": {
      "text/plain": [
       "['411790751304693B1ABA32443A762713CA49B67D9F995A4DA4E8FD296EDC7E40',\n",
       " '59E57301AD19F764468F3D6DA874071DDF1B40416CAD88D9F6B79673F2CAC608',\n",
       " '58A8919EBDD59FD4BEB8194D36FE09062F3247ABA2B9497DCEB56575EF3E3311',\n",
       " 'EEEB8A00C0EA1687E95B94BDB39A98F827BE20EB6426CC6960DABA06CEFF1BF3',\n",
       " '40A65FEF00CB908A86D2EF2A858A7684E4BBB78739E9296E9551F68638A89E2B',\n",
       " 'C112F9C5AB5FE01F7753C38EFADE2909228B27AB642DF286CA42DC6518DD2FB7',\n",
       " '2302E4FCB121561AA2DEDEE0116AD451A982993A0DB6731FDD1DA78B511DDB51',\n",
       " 'EC283B2A36D56685539F1DA284EE1E9125580299968B0C7FFD73E6FCBD16F7EF',\n",
       " 'E1373B461997CFFE390FC45B3F75BA99C6966A37098638A6278F9EE5EEFB3891',\n",
       " '4AA7EFDABA33F1552FF4C536EAE65CBA605D7FA61CE765F9D9E79C8444FAF3B3',\n",
       " 'FABD792DB5B44B70087FE5D1DA2E6D82B802F847871BD3D73F0AA43B6B0BB9BF',\n",
       " '08D4A53414F1B6629BCFB60498D1982DC027CE5267B47411B01DD7ADC77ECA17',\n",
       " '9819BF1E715263A59D781C1BCB5FB6036917955394017E3C97BE19336B8F753E',\n",
       " 'E6D2C569927E0F5853FA138BF760B9F43A46B0F6ABB44B9684C40380DF67ADFD',\n",
       " 'DF14E2B855218E0181AAB1E949F8C913AD122967636D03C74F4C5A258F53BB2E',\n",
       " '8E90C93747E08F48CDF68B1A08249CB4920247B2C1293B5BCF4BACD9196EC5AB',\n",
       " 'E7C71DA4CF5713ACEE32AD607B8A52F992651A4AD64B67AC2C7D42EDF544175C']"
      ]
     },
     "execution_count": 15,
     "metadata": {},
     "output_type": "execute_result"
    }
   ],
   "source": [
    "creation_txns"
   ]
  },
  {
   "cell_type": "markdown",
   "metadata": {},
   "source": [
    "## 2.2 How many times account make transactions"
   ]
  },
  {
   "cell_type": "markdown",
   "metadata": {},
   "source": [
    "We want to know it senders appears several times in transactions"
   ]
  },
  {
   "cell_type": "code",
   "execution_count": 1103,
   "metadata": {},
   "outputs": [],
   "source": [
    "all_senders = df.sender.tolist() #all_senders is a list (with duplicates)"
   ]
  },
  {
   "cell_type": "code",
   "execution_count": 1104,
   "metadata": {},
   "outputs": [
    {
     "data": {
      "application/vnd.jupyter.widget-view+json": {
       "model_id": "a77e6c3eb21344cf87581850b57a9d9a",
       "version_major": 2,
       "version_minor": 0
      },
      "text/plain": [
       "HBox(children=(IntProgress(value=0, max=3621347), HTML(value='')))"
      ]
     },
     "metadata": {},
     "output_type": "display_data"
    }
   ],
   "source": [
    "for txn in tqdm(data):\n",
    "    all_senders.append(txn[\"sender\"])"
   ]
  },
  {
   "cell_type": "code",
   "execution_count": 1105,
   "metadata": {},
   "outputs": [],
   "source": [
    "nb_txn_by_sender = Counter(all_senders).most_common() #count nb of occurences of each sender and sort them reverse"
   ]
  },
  {
   "cell_type": "code",
   "execution_count": 1107,
   "metadata": {},
   "outputs": [],
   "source": [
    "set_senders = set(all_senders) #senders with no diplicates"
   ]
  },
  {
   "cell_type": "code",
   "execution_count": 1110,
   "metadata": {},
   "outputs": [
    {
     "data": {
      "application/vnd.jupyter.widget-view+json": {
       "model_id": "7ebac662de004f81a4857b412b958f55",
       "version_major": 2,
       "version_minor": 0
      },
      "text/plain": [
       "HBox(children=(IntProgress(value=0, max=230733), HTML(value='')))"
      ]
     },
     "metadata": {},
     "output_type": "display_data"
    }
   ],
   "source": [
    "senders_with_at_least_2_txn = [ sender for sender, occurence in tqdm(list(nb_txn_by_sender)) if y > 1 ]"
   ]
  },
  {
   "cell_type": "code",
   "execution_count": 1111,
   "metadata": {},
   "outputs": [
    {
     "name": "stdout",
     "output_type": "stream",
     "text": [
      "There are 59.685003878942325 % of senders than appears at least two times\n"
     ]
    }
   ],
   "source": [
    "print(\"There are\", len(senders_with_at_least_2_txn)/len(set_senders)*100, \"% of senders than appears at least two times\")"
   ]
  },
  {
   "cell_type": "markdown",
   "metadata": {},
   "source": [
    "# 3. Trust lines"
   ]
  },
  {
   "cell_type": "markdown",
   "metadata": {},
   "source": [
    "## 3.0 Getting trust lines (TODO parallelize)"
   ]
  },
  {
   "cell_type": "code",
   "execution_count": 200,
   "metadata": {},
   "outputs": [],
   "source": [
    "all_senders = set(df.sender.tolist())"
   ]
  },
  {
   "cell_type": "code",
   "execution_count": 201,
   "metadata": {},
   "outputs": [
    {
     "data": {
      "application/vnd.jupyter.widget-view+json": {
       "model_id": "1f36343ed2ed4552814cc35bf11003d8",
       "version_major": 2,
       "version_minor": 0
      },
      "text/plain": [
       "HBox(children=(IntProgress(value=0, max=3621347), HTML(value='')))"
      ]
     },
     "metadata": {},
     "output_type": "display_data"
    }
   ],
   "source": [
    "for txn in tqdm(data):\n",
    "    all_senders.add(txn[\"sender\"])"
   ]
  },
  {
   "cell_type": "markdown",
   "metadata": {},
   "source": [
    "Next cell is very long"
   ]
  },
  {
   "cell_type": "code",
   "execution_count": null,
   "metadata": {},
   "outputs": [],
   "source": [
    "lines = []\n",
    "for address in tqdm(all_senders):\n",
    "    answer = rpc.account_lines(address)\n",
    "    if(answer[\"status\"] == 'success'):\n",
    "        lines.append(rpc.account_lines(address)) #account trust lines using Ripple's rpc method\n",
    "    else:\n",
    "        print(\"There was an error\")"
   ]
  },
  {
   "cell_type": "markdown",
   "metadata": {},
   "source": [
    "## 3.1 Trust lines with gateways"
   ]
  },
  {
   "cell_type": "markdown",
   "metadata": {},
   "source": [
    "First we get the informations about the gateways with the ripple data API:"
   ]
  },
  {
   "cell_type": "code",
   "execution_count": 1070,
   "metadata": {},
   "outputs": [],
   "source": [
    "gateways = api.get_all_gateways()\n",
    "#online_gateways = ['SnapSwap','Gatehub Fifth','Bitstamp','Payroutes','WisePass','The Rock Trading','RippleChina','DotPayco','Coinex','Ripple Fox','Lake BTC','Bitso','GBI','Gatehub','EXRP','BPG']"
   ]
  },
  {
   "cell_type": "code",
   "execution_count": 1071,
   "metadata": {},
   "outputs": [
    {
     "data": {
      "application/vnd.jupyter.widget-view+json": {
       "model_id": "25a9bd970f2c4b4293354b7a0cd40048",
       "version_major": 2,
       "version_minor": 0
      },
      "text/plain": [
       "HBox(children=(IntProgress(value=0, max=34), HTML(value='')))"
      ]
     },
     "metadata": {},
     "output_type": "display_data"
    }
   ],
   "source": [
    "gateways_address = set() #all gateway addresses\n",
    "#online_gateways_address = set()\n",
    "for k,vs in tqdm(gateways.items()):\n",
    "    for v in vs:\n",
    "        gateways_address.add(v[\"account\"])\n",
    "        #if v['name'] in online_gateways:\n",
    "            #online_gateways_address.add(v[\"account\"])"
   ]
  },
  {
   "cell_type": "markdown",
   "metadata": {},
   "source": [
    "We want :\n",
    "* know what are the most popular wallet in trust lines\n",
    "* Map wallet to countries given their trust lines currency "
   ]
  },
  {
   "cell_type": "code",
   "execution_count": 1074,
   "metadata": {},
   "outputs": [
    {
     "data": {
      "application/vnd.jupyter.widget-view+json": {
       "model_id": "a186c8ba80eb4758b8c107a415b27206",
       "version_major": 2,
       "version_minor": 0
      },
      "text/plain": [
       "HBox(children=(IntProgress(value=0, max=118527), HTML(value='')))"
      ]
     },
     "metadata": {},
     "output_type": "display_data"
    }
   ],
   "source": [
    "ctr_lines_with_gateways = 0 #counter for the number of trust lines with gateways\n",
    "ctr_lines = 0 #counter for the number of trust lines\n",
    "account_to_country = collections.defaultdict(list) #dict from account to countries (based on currency of its trust lines)\n",
    "wallet_count_in_trust_lines = {} #count in how many trust lines a wallet appear\n",
    "for info in tqdm(lines): \n",
    "    for line in info[\"lines\"]:\n",
    "        ctr_lines += 1\n",
    "        wallet_count_in_trust_lines[line[\"account\"]] = wallet_count_in_trust_lines.get(line[\"account\"], 0) + 1\n",
    "        if line[\"account\"] in gateways_address:\n",
    "            ctr_lines_with_gateways += 1\n",
    "            \n",
    "            #try to convert trust line currency into country, could fail if currency is not fiat (ex : BTC)\n",
    "            try: \n",
    "                country = ccy.country(ccy.currency(line[\"currency\"]).default_country)\n",
    "                if(country not in account_to_country[info[\"account\"]]):\n",
    "                    account_to_country[info[\"account\"]].append(country)\n",
    "            except:\n",
    "                continue"
   ]
  },
  {
   "cell_type": "markdown",
   "metadata": {},
   "source": [
    "Now that we have collected the data we wanted, let's analyse it :\n",
    " * 3.1.1 What percentage of trust lines are with gateways\n",
    " * 3.1.2 Most Common wallets in trust lines \n",
    " * 3.1.3 Over the accounts with trust lines, how many have one with a gateway\n",
    " * 3.1.4 Over all accounts, how many have a trust line with a gateway\n",
    " * 3.1.5 Currency of trust lines with gateways"
   ]
  },
  {
   "cell_type": "markdown",
   "metadata": {},
   "source": [
    "### 3.1.1 What percentage of trust lines are with gateways"
   ]
  },
  {
   "cell_type": "code",
   "execution_count": 1093,
   "metadata": {},
   "outputs": [
    {
     "name": "stdout",
     "output_type": "stream",
     "text": [
      "There are 64.61305374660225 % of thurst lines that are with gateways\n"
     ]
    }
   ],
   "source": [
    "print(\"There are\", ctr_lines_with_gateways/ctr_lines*100,\"% of thurst lines that are with gateways\")"
   ]
  },
  {
   "cell_type": "markdown",
   "metadata": {},
   "source": [
    "### 3.1.2 Most Common wallets in trust lines "
   ]
  },
  {
   "cell_type": "code",
   "execution_count": 1085,
   "metadata": {},
   "outputs": [],
   "source": [
    "wallet_occurences = [(k,v) for k,v in list(wallet_count_in_trust_lines.items())] # convert dict to list of pairs"
   ]
  },
  {
   "cell_type": "code",
   "execution_count": 1086,
   "metadata": {},
   "outputs": [],
   "source": [
    "wallet_occurences.sort(reverse = True,key=lambda wallet_occurences: wallet_occurences[1]) # sort by decressing occurence"
   ]
  },
  {
   "cell_type": "code",
   "execution_count": 1087,
   "metadata": {},
   "outputs": [],
   "source": [
    "gateway_occurences = [(k,v) for k,v in x if k in gateways_address]  # get occurences in trust lines for gateways"
   ]
  },
  {
   "cell_type": "code",
   "execution_count": 1091,
   "metadata": {},
   "outputs": [],
   "source": [
    "gateway_top = [i for i,j in zip(wallet_occurences,gateway_occurences) if i == j] # get first matching elements in occurence of wallets and gateways"
   ]
  },
  {
   "cell_type": "code",
   "execution_count": 1092,
   "metadata": {},
   "outputs": [
    {
     "name": "stdout",
     "output_type": "stream",
     "text": [
      "The 6 most common wallet in trust lines are gateways\n"
     ]
    }
   ],
   "source": [
    "print(\"The\",len(gateway_top),\"most common wallet in trust lines are gateways\")"
   ]
  },
  {
   "cell_type": "markdown",
   "metadata": {},
   "source": [
    "### 3.1.3 Over the accounts with trust lines, how many have one with a gateway"
   ]
  },
  {
   "cell_type": "code",
   "execution_count": 1095,
   "metadata": {},
   "outputs": [],
   "source": [
    "nb_account_with_turst_lines = len([x for x in lines if len(x[\"lines\"]) >= 1]) #nb of accounts with at least one trust line"
   ]
  },
  {
   "cell_type": "code",
   "execution_count": 1096,
   "metadata": {},
   "outputs": [],
   "source": [
    "nb_account_with_trust_lines_with_gateways =len(account_to_country.keys()) #nb of accounts with trust line with gateways"
   ]
  },
  {
   "cell_type": "code",
   "execution_count": 1097,
   "metadata": {},
   "outputs": [
    {
     "name": "stdout",
     "output_type": "stream",
     "text": [
      "Over the accounts that have a trust line 70.74827222211158 % of them have one with a gateway.\n"
     ]
    }
   ],
   "source": [
    "print(\"Over the accounts that have a trust line\",nb_account_with_trust_lines_with_gateways/nb_account_with_turst_lines* 100,\"% of them have one with a gateway.\")"
   ]
  },
  {
   "cell_type": "markdown",
   "metadata": {},
   "source": [
    "### 3.1.4 Over all accounts, how many have a trust line with a gateway"
   ]
  },
  {
   "cell_type": "code",
   "execution_count": 1057,
   "metadata": {},
   "outputs": [
    {
     "name": "stdout",
     "output_type": "stream",
     "text": [
      "Over all accounts 29.969542804593047 % of them have a trust line with a gateway.\n"
     ]
    }
   ],
   "source": [
    "print(\"Over all accounts\",nb_account_with_trust_lines_with_gateways/len(lines)*100,\"% of them have a trust line with a gateway.\")"
   ]
  },
  {
   "cell_type": "markdown",
   "metadata": {},
   "source": [
    "### 3.1.5 Currency of trust lines with gateways"
   ]
  },
  {
   "cell_type": "code",
   "execution_count": 1100,
   "metadata": {},
   "outputs": [
    {
     "data": {
      "application/vnd.jupyter.widget-view+json": {
       "model_id": "c888893173164c948718588a4501d258",
       "version_major": 2,
       "version_minor": 0
      },
      "text/plain": [
       "HBox(children=(IntProgress(value=0, max=35522), HTML(value='')))"
      ]
     },
     "metadata": {},
     "output_type": "display_data"
    }
   ],
   "source": [
    "count_len = {}\n",
    "for country_list in tqdm(account_to_country.values()):\n",
    "    # how many wallets are associated with \"n\" countries\n",
    "    count_len[len(country_list)] = count_len.get(len(country_list),0) + 1 \n",
    "for k,v in count_len.items():\n",
    "    #percentage of total number of wallets that has trust lines with gateways\n",
    "    count_len[k] = v/nb_account_with_trust_lines_with_gateways*100 "
   ]
  },
  {
   "cell_type": "code",
   "execution_count": 1101,
   "metadata": {},
   "outputs": [
    {
     "name": "stdout",
     "output_type": "stream",
     "text": [
      "Over the wallets that have trust lines with gateways 75.11401385057148 % of them have trust lines with gateways in just 1 currency\n",
      "And 19.373909126738358 % of them have trust lines with gateways in 2 currencies\n"
     ]
    }
   ],
   "source": [
    "print(\"Over the wallets that have trust lines with gateways\",count_len[1],\"% of them have trust lines with gateways in just 1 currency\")\n",
    "print(\"And\",count_len[2],\"% of them have trust lines with gateways in 2 currencies\")"
   ]
  },
  {
   "cell_type": "markdown",
   "metadata": {},
   "source": [
    "## 3.2 How Wallet use their trust lines"
   ]
  },
  {
   "cell_type": "markdown",
   "metadata": {},
   "source": [
    "We want to see if transactions goes mainly through trust lines with gateways"
   ]
  },
  {
   "cell_type": "code",
   "execution_count": 1162,
   "metadata": {},
   "outputs": [
    {
     "data": {
      "application/vnd.jupyter.widget-view+json": {
       "model_id": "864f2fba1caa4b89908c38c7214ed64c",
       "version_major": 2,
       "version_minor": 0
      },
      "text/plain": [
       "HBox(children=(IntProgress(value=0, max=118527), HTML(value='')))"
      ]
     },
     "metadata": {},
     "output_type": "display_data"
    }
   ],
   "source": [
    "wallet_to_gateway_trust_lines = collections.defaultdict(list)\n",
    "for account_line in tqdm(lines):\n",
    "    for line in account_line['lines']:\n",
    "        if line['account'] in gateways_address:\n",
    "            wallet = account_line['account']\n",
    "            wallet_to_gateway_trust_lines[wallet].append((line['account'],line['currency']))"
   ]
  },
  {
   "cell_type": "code",
   "execution_count": null,
   "metadata": {},
   "outputs": [],
   "source": [
    "usage_of_trust_lines = collections.defaultdict(dict)\n",
    "\n",
    "# For a given currency transactions checks \n",
    "# if the senders uses one of its trust lines with gateways for this currency in the transaction\n",
    "#     increment the counter for the this line\n",
    "# else\n",
    "#     if the sender uses a trust line that is not with a gateways OR makes a direct transaction in this currency\n",
    "#         increment the counter for 'others'\n",
    "\n",
    "def get_result(txn):\n",
    "    if(txn['success'] == 'tesSUCCESS'):\n",
    "        for account,trust_lines in wallet_to_gateway_trust_lines.items():\n",
    "            if account == txn['sender']:\n",
    "                \n",
    "                #go first through the gateways \n",
    "                for trust_line in trust_lines:  \n",
    "                    trust_line_currency = trust_line[1]\n",
    "                    if 'links' in txn.keys():\n",
    "                        for link in txn['links']:\n",
    "                            if ((account == link['node1'] and trust_line[0] == link['node2'] and trust_line_currency == link['currency']) or (account == link['node2'] and trust_line[0] == link['node1'] and trust_line_currency == link['currency'])):\n",
    "                                usage_of_trust_lines[account] = usage_of_trust_lines.get(account,{})\n",
    "                                usage_of_trust_lines[account][trust_line_currency] = usage_of_trust_lines[account].get(trust_line_currency,{})\n",
    "                                usage_of_trust_lines[account][trust_line_currency][trust_line[0]] = usage_of_trust_lines[account][trust_line_currency].get(trust_line[0],0) + 1\n",
    "                                return\n",
    "                            \n",
    "                #if transaction does not go through a gateway look if it uses a other path             \n",
    "                for trust_line in trust_lines:  \n",
    "                    if 'links' in txn.keys():\n",
    "                        for link in txn['links']:\n",
    "                            if ((account == link['node1'] and trust_line_currency == link['currency']) or (account == link['node2'] and trust_line_currency == link['currency'])):\n",
    "                                usage_of_trust_lines[account] = usage_of_trust_lines.get(account,{})\n",
    "                                usage_of_trust_lines[account][trust_line_currency] = usage_of_trust_lines[account].get(trust_line_currency,{})\n",
    "                                usage_of_trust_lines[account][trust_line_currency]['other'] =  usage_of_trust_lines[account][trust_line_currency].get('other',0) + 1\n",
    "                                return\n",
    "                            \n",
    "                    #or if it's direct                  \n",
    "                    elif 'senderCurrency' in txn.keys():\n",
    "                        if txn['senderCurrency'] == trust_line_currency:\n",
    "                            usage_of_trust_lines[account] = usage_of_trust_lines.get(account,{})\n",
    "                            usage_of_trust_lines[account][trust_line_currency] = usage_of_trust_lines[account].get(trust_line_currency,{})\n",
    "                            usage_of_trust_lines[account][trust_line_currency]['other'] = usage_of_trust_lines[account][trust_line_currency].get('other',0) + 1\n",
    "                            return\n",
    "                        \n",
    "#go through all transactions\n",
    "for txn in tqdm(data):\n",
    "    get_result(txn)           "
   ]
  },
  {
   "cell_type": "markdown",
   "metadata": {},
   "source": [
    "Now count how many txn goes through gateways and how many does not."
   ]
  },
  {
   "cell_type": "code",
   "execution_count": 1024,
   "metadata": {},
   "outputs": [],
   "source": [
    "count_through_gateways = 0\n",
    "count_others = 0\n",
    "for account, currencies in usage_of_trust_lines.items():\n",
    "    for currency,values in currencies.items():\n",
    "        for key,value in values.items(): #key will be a gateway address or 'other'\n",
    "            if key == 'other':\n",
    "                count_others += value\n",
    "            else:\n",
    "                count_through_gateways += value"
   ]
  },
  {
   "cell_type": "code",
   "execution_count": 1025,
   "metadata": {},
   "outputs": [
    {
     "name": "stdout",
     "output_type": "stream",
     "text": [
      "For wallets that have trust line with gateways in a given currency, there are in average 98.91175878891515 % of payments in that currency made by this wallet via these trust lines with gateways\n"
     ]
    }
   ],
   "source": [
    "print(\"For wallets that have trust line with gateways in a given currency, there are in average\", count_through_gateways/(count_through_gateways+count_others)*100,'% of payments in that currency made by this wallet via these trust lines with gateways') "
   ]
  },
  {
   "cell_type": "markdown",
   "metadata": {},
   "source": [
    "# 4. Gateways"
   ]
  },
  {
   "cell_type": "markdown",
   "metadata": {},
   "source": [
    "## 4.1 Gateway per currency zone"
   ]
  },
  {
   "cell_type": "markdown",
   "metadata": {},
   "source": [
    "Our goal here is to find what currencies are covered by gateways and how many gateways can we find by country."
   ]
  },
  {
   "cell_type": "code",
   "execution_count": 1129,
   "metadata": {},
   "outputs": [],
   "source": [
    "dict_gateways = api.get_all_gateways()"
   ]
  },
  {
   "cell_type": "code",
   "execution_count": 1130,
   "metadata": {},
   "outputs": [
    {
     "name": "stdout",
     "output_type": "stream",
     "text": [
      "There are 34 known gateways.\n"
     ]
    }
   ],
   "source": [
    "print(\"There are\",len(list(dict_gateways.values())),\"known gateways.\")"
   ]
  },
  {
   "cell_type": "markdown",
   "metadata": {},
   "source": [
    "List of online gateways according to https://wipple.devnull.network/research/gateways.html"
   ]
  },
  {
   "cell_type": "code",
   "execution_count": 1131,
   "metadata": {},
   "outputs": [],
   "source": [
    "online_gateways = ['SnapSwap','Gatehub Fifth','Bitstamp','Payroutes','WisePass','The Rock Trading','RippleChina','DotPayco','Coinex','Ripple Fox','Lake BTC','Bitso','GBI','Gatehub','EXRP','BPG']"
   ]
  },
  {
   "cell_type": "code",
   "execution_count": 1132,
   "metadata": {},
   "outputs": [
    {
     "data": {
      "application/vnd.jupyter.widget-view+json": {
       "model_id": "7b85d7d450ad4f62beeeb326c1c23b9c",
       "version_major": 2,
       "version_minor": 0
      },
      "text/plain": [
       "HBox(children=(IntProgress(value=0, max=34), HTML(value='')))"
      ]
     },
     "metadata": {},
     "output_type": "display_data"
    }
   ],
   "source": [
    "currency_to_nb_gateways = {}\n",
    "for currency, gateways in tqdm(dict_gateways.items()):\n",
    "    for gateway in gateways:\n",
    "        if gateway['name'] in online_gateways:\n",
    "            currency_to_nb_gateways[currency] = currency_to_nb_gateways.get(currency,0) + 1"
   ]
  },
  {
   "cell_type": "code",
   "execution_count": 1133,
   "metadata": {},
   "outputs": [
    {
     "data": {
      "application/vnd.jupyter.widget-view+json": {
       "model_id": "e2f0387e02d248e48b4a3807bdf6f75f",
       "version_major": 2,
       "version_minor": 0
      },
      "text/plain": [
       "HBox(children=(IntProgress(value=0, max=23), HTML(value='')))"
      ]
     },
     "metadata": {},
     "output_type": "display_data"
    }
   ],
   "source": [
    "country_to_nb_gateways= {}\n",
    "for currency, nb_gateways in tqdm(currency_to_nb_gateways.items()):\n",
    "    #Try to convert currency to country (only works if currency is real, ex: BTC will fail)\n",
    "    try:\n",
    "        currency = ccy.country(ccy.currency(currency).default_country)\n",
    "        country_to_nb_gateways[currency] = nb_gateways\n",
    "    except :\n",
    "        continue"
   ]
  },
  {
   "cell_type": "code",
   "execution_count": 1134,
   "metadata": {},
   "outputs": [
    {
     "data": {
      "text/plain": [
       "{'Australia': 2,\n",
       " 'Switzerland': 1,\n",
       " 'Eurozone': 4,\n",
       " 'Britain (UK)': 3,\n",
       " 'Japan': 2,\n",
       " 'United States': 8,\n",
       " 'China': 3,\n",
       " 'Israel': 1,\n",
       " 'Norway': 1,\n",
       " 'Sweden': 1,\n",
       " 'Mexico': 1,\n",
       " 'New Zealand': 1,\n",
       " 'Korea (South)': 1}"
      ]
     },
     "execution_count": 1134,
     "metadata": {},
     "output_type": "execute_result"
    }
   ],
   "source": [
    "country_to_nb_gateways"
   ]
  }
 ],
 "metadata": {
  "kernelspec": {
   "display_name": "Python 3",
   "language": "python",
   "name": "python3"
  },
  "language_info": {
   "codemirror_mode": {
    "name": "ipython",
    "version": 3
   },
   "file_extension": ".py",
   "mimetype": "text/x-python",
   "name": "python",
   "nbconvert_exporter": "python",
   "pygments_lexer": "ipython3",
   "version": "3.7.1"
  }
 },
 "nbformat": 4,
 "nbformat_minor": 2
}
